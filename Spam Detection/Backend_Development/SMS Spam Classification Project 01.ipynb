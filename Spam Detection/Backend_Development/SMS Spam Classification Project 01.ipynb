{
 "cells": [
  {
   "cell_type": "markdown",
   "id": "09c61fa8",
   "metadata": {},
   "source": [
    "#                                SMS Spam Classification\n",
    "\n",
    "⌚Time Stamps⌚\n",
    "\n",
    "00:00 - Intro\n",
    "00:54 - Project Demo\n",
    "02:50 - UCI ML Dataset\n",
    "04:41 - Creating Jupyter Notebook/Checking The Data\n",
    "05:55 - Stages of the Project\n",
    "07:30 - Data Cleaning\n",
    "12:20 - EDA\n",
    "29:17 - Text Preprocessing\n",
    "54:25 - Model Building\n",
    "01:09:17 - Improving model performance\n",
    "01:20:20 - Creating the project in Pycharm\n",
    "01:33:00 - Deployment on Heroku\n",
    "01:39:30 - Outro"
   ]
  },
  {
   "cell_type": "code",
   "execution_count": 70,
   "id": "c6b51878",
   "metadata": {},
   "outputs": [],
   "source": [
    "# import numpy and pandas\n",
    "import numpy as np\n",
    "import pandas as pd"
   ]
  },
  {
   "cell_type": "code",
   "execution_count": 71,
   "id": "938336cc",
   "metadata": {},
   "outputs": [
    {
     "data": {
      "text/html": [
       "<div>\n",
       "<style scoped>\n",
       "    .dataframe tbody tr th:only-of-type {\n",
       "        vertical-align: middle;\n",
       "    }\n",
       "\n",
       "    .dataframe tbody tr th {\n",
       "        vertical-align: top;\n",
       "    }\n",
       "\n",
       "    .dataframe thead th {\n",
       "        text-align: right;\n",
       "    }\n",
       "</style>\n",
       "<table border=\"1\" class=\"dataframe\">\n",
       "  <thead>\n",
       "    <tr style=\"text-align: right;\">\n",
       "      <th></th>\n",
       "      <th>v1</th>\n",
       "      <th>v2</th>\n",
       "      <th>Unnamed: 2</th>\n",
       "      <th>Unnamed: 3</th>\n",
       "      <th>Unnamed: 4</th>\n",
       "    </tr>\n",
       "  </thead>\n",
       "  <tbody>\n",
       "    <tr>\n",
       "      <th>0</th>\n",
       "      <td>ham</td>\n",
       "      <td>Go until jurong point, crazy.. Available only ...</td>\n",
       "      <td>NaN</td>\n",
       "      <td>NaN</td>\n",
       "      <td>NaN</td>\n",
       "    </tr>\n",
       "    <tr>\n",
       "      <th>1</th>\n",
       "      <td>ham</td>\n",
       "      <td>Ok lar... Joking wif u oni...</td>\n",
       "      <td>NaN</td>\n",
       "      <td>NaN</td>\n",
       "      <td>NaN</td>\n",
       "    </tr>\n",
       "    <tr>\n",
       "      <th>2</th>\n",
       "      <td>spam</td>\n",
       "      <td>Free entry in 2 a wkly comp to win FA Cup fina...</td>\n",
       "      <td>NaN</td>\n",
       "      <td>NaN</td>\n",
       "      <td>NaN</td>\n",
       "    </tr>\n",
       "    <tr>\n",
       "      <th>3</th>\n",
       "      <td>ham</td>\n",
       "      <td>U dun say so early hor... U c already then say...</td>\n",
       "      <td>NaN</td>\n",
       "      <td>NaN</td>\n",
       "      <td>NaN</td>\n",
       "    </tr>\n",
       "    <tr>\n",
       "      <th>4</th>\n",
       "      <td>ham</td>\n",
       "      <td>Nah I don't think he goes to usf, he lives aro...</td>\n",
       "      <td>NaN</td>\n",
       "      <td>NaN</td>\n",
       "      <td>NaN</td>\n",
       "    </tr>\n",
       "  </tbody>\n",
       "</table>\n",
       "</div>"
      ],
      "text/plain": [
       "     v1                                                 v2 Unnamed: 2  \\\n",
       "0   ham  Go until jurong point, crazy.. Available only ...        NaN   \n",
       "1   ham                      Ok lar... Joking wif u oni...        NaN   \n",
       "2  spam  Free entry in 2 a wkly comp to win FA Cup fina...        NaN   \n",
       "3   ham  U dun say so early hor... U c already then say...        NaN   \n",
       "4   ham  Nah I don't think he goes to usf, he lives aro...        NaN   \n",
       "\n",
       "  Unnamed: 3 Unnamed: 4  \n",
       "0        NaN        NaN  \n",
       "1        NaN        NaN  \n",
       "2        NaN        NaN  \n",
       "3        NaN        NaN  \n",
       "4        NaN        NaN  "
      ]
     },
     "execution_count": 71,
     "metadata": {},
     "output_type": "execute_result"
    }
   ],
   "source": [
    "# imported the data_sets\n",
    "df= pd.read_csv(\"spam1.csv\", encoding=\"ISO-8859-1\")\n",
    "df.head()"
   ]
  },
  {
   "cell_type": "code",
   "execution_count": 72,
   "id": "a81e0912-8531-41ce-bbf8-1ac4452e8b5d",
   "metadata": {},
   "outputs": [],
   "source": [
    "# df.isnull().sum() # so sure that we've to delete these unnamed columns"
   ]
  },
  {
   "cell_type": "markdown",
   "id": "d39b49b4",
   "metadata": {},
   "source": [
    "#                                        Data cleaning"
   ]
  },
  {
   "cell_type": "code",
   "execution_count": 73,
   "id": "26dcdcbb",
   "metadata": {},
   "outputs": [
    {
     "data": {
      "text/html": [
       "<div>\n",
       "<style scoped>\n",
       "    .dataframe tbody tr th:only-of-type {\n",
       "        vertical-align: middle;\n",
       "    }\n",
       "\n",
       "    .dataframe tbody tr th {\n",
       "        vertical-align: top;\n",
       "    }\n",
       "\n",
       "    .dataframe thead th {\n",
       "        text-align: right;\n",
       "    }\n",
       "</style>\n",
       "<table border=\"1\" class=\"dataframe\">\n",
       "  <thead>\n",
       "    <tr style=\"text-align: right;\">\n",
       "      <th></th>\n",
       "      <th>v1</th>\n",
       "      <th>v2</th>\n",
       "    </tr>\n",
       "  </thead>\n",
       "  <tbody>\n",
       "    <tr>\n",
       "      <th>0</th>\n",
       "      <td>ham</td>\n",
       "      <td>Go until jurong point, crazy.. Available only ...</td>\n",
       "    </tr>\n",
       "    <tr>\n",
       "      <th>1</th>\n",
       "      <td>ham</td>\n",
       "      <td>Ok lar... Joking wif u oni...</td>\n",
       "    </tr>\n",
       "    <tr>\n",
       "      <th>2</th>\n",
       "      <td>spam</td>\n",
       "      <td>Free entry in 2 a wkly comp to win FA Cup fina...</td>\n",
       "    </tr>\n",
       "    <tr>\n",
       "      <th>3</th>\n",
       "      <td>ham</td>\n",
       "      <td>U dun say so early hor... U c already then say...</td>\n",
       "    </tr>\n",
       "    <tr>\n",
       "      <th>4</th>\n",
       "      <td>ham</td>\n",
       "      <td>Nah I don't think he goes to usf, he lives aro...</td>\n",
       "    </tr>\n",
       "  </tbody>\n",
       "</table>\n",
       "</div>"
      ],
      "text/plain": [
       "     v1                                                 v2\n",
       "0   ham  Go until jurong point, crazy.. Available only ...\n",
       "1   ham                      Ok lar... Joking wif u oni...\n",
       "2  spam  Free entry in 2 a wkly comp to win FA Cup fina...\n",
       "3   ham  U dun say so early hor... U c already then say...\n",
       "4   ham  Nah I don't think he goes to usf, he lives aro..."
      ]
     },
     "execution_count": 73,
     "metadata": {},
     "output_type": "execute_result"
    }
   ],
   "source": [
    "# drop the last 3 cols\n",
    "df.drop(columns=[\"Unnamed: 2\", \"Unnamed: 3\", \"Unnamed: 4\"], inplace=True)\n",
    "\n",
    "# we've to drop it into its variable except another one.\n",
    "\n",
    "df.head(5)"
   ]
  },
  {
   "cell_type": "code",
   "execution_count": 74,
   "id": "783169b4",
   "metadata": {},
   "outputs": [
    {
     "data": {
      "text/html": [
       "<div>\n",
       "<style scoped>\n",
       "    .dataframe tbody tr th:only-of-type {\n",
       "        vertical-align: middle;\n",
       "    }\n",
       "\n",
       "    .dataframe tbody tr th {\n",
       "        vertical-align: top;\n",
       "    }\n",
       "\n",
       "    .dataframe thead th {\n",
       "        text-align: right;\n",
       "    }\n",
       "</style>\n",
       "<table border=\"1\" class=\"dataframe\">\n",
       "  <thead>\n",
       "    <tr style=\"text-align: right;\">\n",
       "      <th></th>\n",
       "      <th>v1</th>\n",
       "      <th>v2</th>\n",
       "    </tr>\n",
       "  </thead>\n",
       "  <tbody>\n",
       "    <tr>\n",
       "      <th>1251</th>\n",
       "      <td>spam</td>\n",
       "      <td>Please CALL 08712402779 immediately as there i...</td>\n",
       "    </tr>\n",
       "    <tr>\n",
       "      <th>525</th>\n",
       "      <td>ham</td>\n",
       "      <td>Hi i won't b ard 4 christmas. But do enjoy n m...</td>\n",
       "    </tr>\n",
       "    <tr>\n",
       "      <th>2913</th>\n",
       "      <td>spam</td>\n",
       "      <td>Sorry! U can not unsubscribe yet. THE MOB offe...</td>\n",
       "    </tr>\n",
       "    <tr>\n",
       "      <th>2368</th>\n",
       "      <td>ham</td>\n",
       "      <td>If you r @ home then come down within 5 min</td>\n",
       "    </tr>\n",
       "    <tr>\n",
       "      <th>504</th>\n",
       "      <td>spam</td>\n",
       "      <td>+123 Congratulations - in this week's competit...</td>\n",
       "    </tr>\n",
       "  </tbody>\n",
       "</table>\n",
       "</div>"
      ],
      "text/plain": [
       "        v1                                                 v2\n",
       "1251  spam  Please CALL 08712402779 immediately as there i...\n",
       "525    ham  Hi i won't b ard 4 christmas. But do enjoy n m...\n",
       "2913  spam  Sorry! U can not unsubscribe yet. THE MOB offe...\n",
       "2368   ham        If you r @ home then come down within 5 min\n",
       "504   spam  +123 Congratulations - in this week's competit..."
      ]
     },
     "execution_count": 74,
     "metadata": {},
     "output_type": "execute_result"
    }
   ],
   "source": [
    "# printed its sample\n",
    "df.sample(5)"
   ]
  },
  {
   "cell_type": "code",
   "execution_count": 75,
   "id": "e7e006e0",
   "metadata": {},
   "outputs": [
    {
     "data": {
      "text/html": [
       "<div>\n",
       "<style scoped>\n",
       "    .dataframe tbody tr th:only-of-type {\n",
       "        vertical-align: middle;\n",
       "    }\n",
       "\n",
       "    .dataframe tbody tr th {\n",
       "        vertical-align: top;\n",
       "    }\n",
       "\n",
       "    .dataframe thead th {\n",
       "        text-align: right;\n",
       "    }\n",
       "</style>\n",
       "<table border=\"1\" class=\"dataframe\">\n",
       "  <thead>\n",
       "    <tr style=\"text-align: right;\">\n",
       "      <th></th>\n",
       "      <th>Target</th>\n",
       "      <th>Spam_Ham</th>\n",
       "    </tr>\n",
       "  </thead>\n",
       "  <tbody>\n",
       "    <tr>\n",
       "      <th>2110</th>\n",
       "      <td>ham</td>\n",
       "      <td>Do we have any spare power supplies</td>\n",
       "    </tr>\n",
       "  </tbody>\n",
       "</table>\n",
       "</div>"
      ],
      "text/plain": [
       "     Target                             Spam_Ham\n",
       "2110    ham  Do we have any spare power supplies"
      ]
     },
     "execution_count": 75,
     "metadata": {},
     "output_type": "execute_result"
    }
   ],
   "source": [
    "# note: v1 and v2 are not good to understand so rename it.\n",
    "\n",
    "# just rename the cols.\n",
    "df.rename(columns={'v1': \"Target\", 'v2': 'Spam_Ham'}, inplace= True) #key:pair(using -> dict.)\n",
    "df.sample()"
   ]
  },
  {
   "cell_type": "code",
   "execution_count": 76,
   "id": "717dbef5",
   "metadata": {},
   "outputs": [],
   "source": [
    "# better to do analysis, we've to use frequently wherever going to import the data\n",
    "#shape\n",
    "#reshape\n",
    "#rows/cols\n",
    "#"
   ]
  },
  {
   "cell_type": "markdown",
   "id": "8b121b26",
   "metadata": {},
   "source": [
    "<h1>Extra work done</h1>"
   ]
  },
  {
   "cell_type": "code",
   "execution_count": 77,
   "id": "8c174bfd",
   "metadata": {},
   "outputs": [
    {
     "data": {
      "text/plain": [
       "Target\n",
       "ham     4825\n",
       "spam     747\n",
       "Name: count, dtype: int64"
      ]
     },
     "execution_count": 77,
     "metadata": {},
     "output_type": "execute_result"
    }
   ],
   "source": [
    "# df.head(4)\n",
    "df[\"Target\"].value_counts()"
   ]
  },
  {
   "cell_type": "markdown",
   "id": "c47a1322",
   "metadata": {},
   "source": [
    "#                  sk_learn_lib"
   ]
  },
  {
   "cell_type": "code",
   "execution_count": 78,
   "id": "23d1bcc7",
   "metadata": {
    "scrolled": true
   },
   "outputs": [
    {
     "data": {
      "text/plain": [
       "<bound method DataFrame.info of       Target                                           Spam_Ham\n",
       "0          0  Go until jurong point, crazy.. Available only ...\n",
       "1          0                      Ok lar... Joking wif u oni...\n",
       "2          1  Free entry in 2 a wkly comp to win FA Cup fina...\n",
       "3          0  U dun say so early hor... U c already then say...\n",
       "4          0  Nah I don't think he goes to usf, he lives aro...\n",
       "...      ...                                                ...\n",
       "5567       1  This is the 2nd time we have tried 2 contact u...\n",
       "5568       0              Will Ì_ b going to esplanade fr home?\n",
       "5569       0  Pity, * was in mood for that. So...any other s...\n",
       "5570       0  The guy did some bitching but I acted like i'd...\n",
       "5571       0                         Rofl. Its true to its name\n",
       "\n",
       "[5572 rows x 2 columns]>"
      ]
     },
     "execution_count": 78,
     "metadata": {},
     "output_type": "execute_result"
    }
   ],
   "source": [
    "#imported the sk_learn library\n",
    "from sklearn.preprocessing import LabelEncoder # class -> LabelEncoder\n",
    "\n",
    "# note: what's is LabelEncorder(class) -> encorded or fetch 0/1 from the lib.\n",
    "# Certainly! Here's an explanation of the LabelEncoder from sklearn.preprocessing in points:\n",
    "\n",
    "# Purpose: The LabelEncoder is a utility class in the sklearn.preprocessing module that is used for encoding categorical labels as integer values.\n",
    "\n",
    "# Categorical Data Handling: In machine learning, many algorithms cannot directly handle categorical data, which includes textual labels such as \"red,\" \"green,\" \"blue,\" etc. These labels need to be converted into numerical representations for the algorithms to work effectively.\n",
    "\n",
    "# Encoding Labels: LabelEncoder converts categorical labels into numerical values. It assigns a unique integer to each label in the dataset. For example, if you have labels like \"cat,\" \"dog,\" and \"bird,\" LabelEncoder will map them to integers like 0, 1, and 2, respectively.\n",
    "\n",
    "# Ordinal Encoding: LabelEncoder performs ordinal encoding, which means it assigns integers to labels based on the order in which they are encountered in the dataset. It does not assume any specific ordering of the labels but simply assigns a unique integer to each distinct label.\n",
    "\n",
    "\n",
    "encoder = LabelEncoder() #the class\n",
    "df[\"Target\"] = encoder.fit_transform(df[\"Target\"])\n",
    "\n",
    "# printed it.\n",
    "df.head()\n",
    "df.info"
   ]
  },
  {
   "cell_type": "code",
   "execution_count": 79,
   "id": "8179cb82",
   "metadata": {},
   "outputs": [
    {
     "data": {
      "text/plain": [
       "Target      0\n",
       "Spam_Ham    0\n",
       "dtype: int64"
      ]
     },
     "execution_count": 79,
     "metadata": {},
     "output_type": "execute_result"
    }
   ],
   "source": [
    "# checked the missing values\n",
    "df.isnull().sum()"
   ]
  },
  {
   "cell_type": "code",
   "execution_count": 80,
   "id": "61cbca35",
   "metadata": {},
   "outputs": [
    {
     "data": {
      "text/plain": [
       "403"
      ]
     },
     "execution_count": 80,
     "metadata": {},
     "output_type": "execute_result"
    }
   ],
   "source": [
    "# checked duplicated values\n",
    "df.duplicated().sum()"
   ]
  },
  {
   "cell_type": "code",
   "execution_count": 81,
   "id": "3f39837d",
   "metadata": {},
   "outputs": [
    {
     "data": {
      "text/plain": [
       "0"
      ]
     },
     "execution_count": 81,
     "metadata": {},
     "output_type": "execute_result"
    }
   ],
   "source": [
    "#so removing the duplicated values first of that.\n",
    "df= df.drop_duplicates(keep= \"first\")\n",
    "\n",
    "# # note: Here's what each option for the keep parameter does:\n",
    "\n",
    "# \"first\": This option keeps the first occurrence of a duplicated row and drops all subsequent occurrences. So, if there are multiple rows with the same values, only the first one encountered will be kept, and the rest will be dropped.\n",
    "\n",
    "# \"last\": This option keeps the last occurrence of a duplicated row and drops all previous occurrences. If there are multiple rows with the same values, only the last one encountered will be kept, and the rest will be dropped.\n",
    "\n",
    "# False: This option drops all duplicates, regardless of their order.\n",
    "\n",
    "\n",
    "# so finally removed duplicates.\n",
    "df.duplicated().sum()"
   ]
  },
  {
   "cell_type": "code",
   "execution_count": 82,
   "id": "785b7f56",
   "metadata": {},
   "outputs": [
    {
     "data": {
      "text/plain": [
       "(5169, 2)"
      ]
     },
     "execution_count": 82,
     "metadata": {},
     "output_type": "execute_result"
    }
   ],
   "source": [
    "# now, checking its shape\n",
    "df.shape\n",
    "\n",
    "# this is the basis cleaning part has been figured out."
   ]
  },
  {
   "cell_type": "markdown",
   "id": "89b873a0",
   "metadata": {},
   "source": [
    "#                                      EDA"
   ]
  },
  {
   "cell_type": "code",
   "execution_count": 83,
   "id": "8fd8c8fc",
   "metadata": {},
   "outputs": [
    {
     "data": {
      "text/plain": [
       "Target\n",
       "0    4516\n",
       "1     653\n",
       "Name: count, dtype: int64"
      ]
     },
     "execution_count": 83,
     "metadata": {},
     "output_type": "execute_result"
    }
   ],
   "source": [
    "# to understading the data -> to perform EDA.\n",
    "df[\"Target\"].value_counts()"
   ]
  },
  {
   "cell_type": "code",
   "execution_count": 84,
   "id": "e91a3b66",
   "metadata": {},
   "outputs": [
    {
     "data": {
      "image/png": "[encoded data removed]",
      "text/plain": [
       "<Figure size 640x480 with 1 Axes>"
      ]
     },
     "metadata": {},
     "output_type": "display_data"
    }
   ],
   "source": [
    "# imported matplotlib\n",
    "import matplotlib.pyplot as a\n",
    "a.pie(df[\"Target\"].value_counts(), labels= [\"Ham\", \"Spam\"], autopct=\"%0.2f\")\n",
    "a.show()\n",
    "\n",
    "# note: \n",
    "#     matplotlib.pyplot: This module provides a MATLAB-like interface for creating plots and visualizations in Python."
   ]
  },
  {
   "cell_type": "markdown",
   "id": "9b15fb7d-64cb-41cc-8f67-a6a436dc8670",
   "metadata": {},
   "source": [
    "# <h1>after analyzed the data, Data is imbalanced ->\n",
    "# ham -> 4516 # good messages\n",
    "# spam -> 653 # not good."
   ]
  },
  {
   "cell_type": "markdown",
   "id": "db5890c7",
   "metadata": {},
   "source": [
    "<h1> Performed NLRK </h1>"
   ]
  },
  {
   "cell_type": "code",
   "execution_count": 86,
   "id": "7bde3a41",
   "metadata": {},
   "outputs": [
    {
     "name": "stderr",
     "output_type": "stream",
     "text": [
      "[nltk_data] Downloading package punkt to\n",
      "[nltk_data]     C:\\Users\\lenovo\\AppData\\Roaming\\nltk_data...\n",
      "[nltk_data]   Package punkt is already up-to-date!\n"
     ]
    },
    {
     "data": {
      "text/plain": [
       "True"
      ]
     },
     "execution_count": 86,
     "metadata": {},
     "output_type": "execute_result"
    }
   ],
   "source": [
    "# imported nltk lib\n",
    "import nltk \n",
    "\n",
    "# its package\n",
    "nltk.download('punkt')\n",
    "\n",
    "# note:\n",
    "#     nltk.download('punkt'): This line downloads the punkt tokenizer models. \n",
    "#         The punkt tokenizer is used for tokenizing (i.e., splitting) text into individual words or sentences."
   ]
  },
  {
   "cell_type": "code",
   "execution_count": 87,
   "id": "dabe6d60",
   "metadata": {},
   "outputs": [
    {
     "name": "stderr",
     "output_type": "stream",
     "text": [
      "C:\\Users\\lenovo\\AppData\\Local\\Temp\\ipykernel_14260\\641999034.py:4: SettingWithCopyWarning: \n",
      "A value is trying to be set on a copy of a slice from a DataFrame.\n",
      "Try using .loc[row_indexer,col_indexer] = value instead\n",
      "\n",
      "See the caveats in the documentation: https://pandas.pydata.org/pandas-docs/stable/user_guide/indexing.html#returning-a-view-versus-a-copy\n",
      "  df[\"num_Characters\"]= df[\"Spam_Ham\"].apply(len)\n"
     ]
    }
   ],
   "source": [
    "# df[\"Spam_Ham\"].apply(len)\n",
    "\n",
    "# to store it in new var\n",
    "df[\"num_Characters\"]= df[\"Spam_Ham\"].apply(len)"
   ]
  },
  {
   "cell_type": "code",
   "execution_count": 88,
   "id": "3a9f8180",
   "metadata": {},
   "outputs": [
    {
     "data": {
      "text/html": [
       "<div>\n",
       "<style scoped>\n",
       "    .dataframe tbody tr th:only-of-type {\n",
       "        vertical-align: middle;\n",
       "    }\n",
       "\n",
       "    .dataframe tbody tr th {\n",
       "        vertical-align: top;\n",
       "    }\n",
       "\n",
       "    .dataframe thead th {\n",
       "        text-align: right;\n",
       "    }\n",
       "</style>\n",
       "<table border=\"1\" class=\"dataframe\">\n",
       "  <thead>\n",
       "    <tr style=\"text-align: right;\">\n",
       "      <th></th>\n",
       "      <th>Target</th>\n",
       "      <th>Spam_Ham</th>\n",
       "      <th>num_Characters</th>\n",
       "    </tr>\n",
       "  </thead>\n",
       "  <tbody>\n",
       "    <tr>\n",
       "      <th>0</th>\n",
       "      <td>0</td>\n",
       "      <td>Go until jurong point, crazy.. Available only ...</td>\n",
       "      <td>111</td>\n",
       "    </tr>\n",
       "    <tr>\n",
       "      <th>1</th>\n",
       "      <td>0</td>\n",
       "      <td>Ok lar... Joking wif u oni...</td>\n",
       "      <td>29</td>\n",
       "    </tr>\n",
       "    <tr>\n",
       "      <th>2</th>\n",
       "      <td>1</td>\n",
       "      <td>Free entry in 2 a wkly comp to win FA Cup fina...</td>\n",
       "      <td>155</td>\n",
       "    </tr>\n",
       "    <tr>\n",
       "      <th>3</th>\n",
       "      <td>0</td>\n",
       "      <td>U dun say so early hor... U c already then say...</td>\n",
       "      <td>49</td>\n",
       "    </tr>\n",
       "    <tr>\n",
       "      <th>4</th>\n",
       "      <td>0</td>\n",
       "      <td>Nah I don't think he goes to usf, he lives aro...</td>\n",
       "      <td>61</td>\n",
       "    </tr>\n",
       "  </tbody>\n",
       "</table>\n",
       "</div>"
      ],
      "text/plain": [
       "   Target                                           Spam_Ham  num_Characters\n",
       "0       0  Go until jurong point, crazy.. Available only ...             111\n",
       "1       0                      Ok lar... Joking wif u oni...              29\n",
       "2       1  Free entry in 2 a wkly comp to win FA Cup fina...             155\n",
       "3       0  U dun say so early hor... U c already then say...              49\n",
       "4       0  Nah I don't think he goes to usf, he lives aro...              61"
      ]
     },
     "execution_count": 88,
     "metadata": {},
     "output_type": "execute_result"
    }
   ],
   "source": [
    "# re-run it.\n",
    "df.head()"
   ]
  },
  {
   "cell_type": "code",
   "execution_count": 89,
   "id": "d76e0587",
   "metadata": {},
   "outputs": [
    {
     "name": "stderr",
     "output_type": "stream",
     "text": [
      "C:\\Users\\lenovo\\AppData\\Local\\Temp\\ipykernel_14260\\606482941.py:7: SettingWithCopyWarning: \n",
      "A value is trying to be set on a copy of a slice from a DataFrame.\n",
      "Try using .loc[row_indexer,col_indexer] = value instead\n",
      "\n",
      "See the caveats in the documentation: https://pandas.pydata.org/pandas-docs/stable/user_guide/indexing.html#returning-a-view-versus-a-copy\n",
      "  df[\"num_words\"]= df[\"Spam_Ham\"].apply(lambda x: len(nltk.word_tokenize(x)))\n"
     ]
    }
   ],
   "source": [
    "# num of words\n",
    "\n",
    "# breaking into workd of the sentences form of Spam_ham\n",
    "# df[\"Spam_Ham\"].apply(lambda x: nltk.word_tokenize(x))\n",
    "\n",
    "# calculating sentences length\n",
    "df[\"num_words\"]= df[\"Spam_Ham\"].apply(lambda x: len(nltk.word_tokenize(x)))"
   ]
  },
  {
   "cell_type": "code",
   "execution_count": 90,
   "id": "a38c3074",
   "metadata": {},
   "outputs": [
    {
     "data": {
      "text/html": [
       "<div>\n",
       "<style scoped>\n",
       "    .dataframe tbody tr th:only-of-type {\n",
       "        vertical-align: middle;\n",
       "    }\n",
       "\n",
       "    .dataframe tbody tr th {\n",
       "        vertical-align: top;\n",
       "    }\n",
       "\n",
       "    .dataframe thead th {\n",
       "        text-align: right;\n",
       "    }\n",
       "</style>\n",
       "<table border=\"1\" class=\"dataframe\">\n",
       "  <thead>\n",
       "    <tr style=\"text-align: right;\">\n",
       "      <th></th>\n",
       "      <th>Target</th>\n",
       "      <th>Spam_Ham</th>\n",
       "      <th>num_Characters</th>\n",
       "      <th>num_words</th>\n",
       "    </tr>\n",
       "  </thead>\n",
       "  <tbody>\n",
       "    <tr>\n",
       "      <th>0</th>\n",
       "      <td>0</td>\n",
       "      <td>Go until jurong point, crazy.. Available only ...</td>\n",
       "      <td>111</td>\n",
       "      <td>24</td>\n",
       "    </tr>\n",
       "    <tr>\n",
       "      <th>1</th>\n",
       "      <td>0</td>\n",
       "      <td>Ok lar... Joking wif u oni...</td>\n",
       "      <td>29</td>\n",
       "      <td>8</td>\n",
       "    </tr>\n",
       "    <tr>\n",
       "      <th>2</th>\n",
       "      <td>1</td>\n",
       "      <td>Free entry in 2 a wkly comp to win FA Cup fina...</td>\n",
       "      <td>155</td>\n",
       "      <td>37</td>\n",
       "    </tr>\n",
       "    <tr>\n",
       "      <th>3</th>\n",
       "      <td>0</td>\n",
       "      <td>U dun say so early hor... U c already then say...</td>\n",
       "      <td>49</td>\n",
       "      <td>13</td>\n",
       "    </tr>\n",
       "    <tr>\n",
       "      <th>4</th>\n",
       "      <td>0</td>\n",
       "      <td>Nah I don't think he goes to usf, he lives aro...</td>\n",
       "      <td>61</td>\n",
       "      <td>15</td>\n",
       "    </tr>\n",
       "  </tbody>\n",
       "</table>\n",
       "</div>"
      ],
      "text/plain": [
       "   Target                                           Spam_Ham  num_Characters  \\\n",
       "0       0  Go until jurong point, crazy.. Available only ...             111   \n",
       "1       0                      Ok lar... Joking wif u oni...              29   \n",
       "2       1  Free entry in 2 a wkly comp to win FA Cup fina...             155   \n",
       "3       0  U dun say so early hor... U c already then say...              49   \n",
       "4       0  Nah I don't think he goes to usf, he lives aro...              61   \n",
       "\n",
       "   num_words  \n",
       "0         24  \n",
       "1          8  \n",
       "2         37  \n",
       "3         13  \n",
       "4         15  "
      ]
     },
     "execution_count": 90,
     "metadata": {},
     "output_type": "execute_result"
    }
   ],
   "source": [
    "df.head()"
   ]
  },
  {
   "cell_type": "code",
   "execution_count": 91,
   "id": "f12ce5b3",
   "metadata": {},
   "outputs": [
    {
     "name": "stderr",
     "output_type": "stream",
     "text": [
      "C:\\Users\\lenovo\\AppData\\Local\\Temp\\ipykernel_14260\\616130868.py:4: SettingWithCopyWarning: \n",
      "A value is trying to be set on a copy of a slice from a DataFrame.\n",
      "Try using .loc[row_indexer,col_indexer] = value instead\n",
      "\n",
      "See the caveats in the documentation: https://pandas.pydata.org/pandas-docs/stable/user_guide/indexing.html#returning-a-view-versus-a-copy\n",
      "  df[\"num_sentences\"]= df[\"Spam_Ham\"].apply(lambda x: len(nltk.sent_tokenize(x)))\n"
     ]
    }
   ],
   "source": [
    "# num of sentences\n",
    "\n",
    "# calculated its length.\n",
    "df[\"num_sentences\"]= df[\"Spam_Ham\"].apply(lambda x: len(nltk.sent_tokenize(x)))"
   ]
  },
  {
   "cell_type": "code",
   "execution_count": 92,
   "id": "9486a4e5",
   "metadata": {},
   "outputs": [
    {
     "data": {
      "text/html": [
       "<div>\n",
       "<style scoped>\n",
       "    .dataframe tbody tr th:only-of-type {\n",
       "        vertical-align: middle;\n",
       "    }\n",
       "\n",
       "    .dataframe tbody tr th {\n",
       "        vertical-align: top;\n",
       "    }\n",
       "\n",
       "    .dataframe thead th {\n",
       "        text-align: right;\n",
       "    }\n",
       "</style>\n",
       "<table border=\"1\" class=\"dataframe\">\n",
       "  <thead>\n",
       "    <tr style=\"text-align: right;\">\n",
       "      <th></th>\n",
       "      <th>Target</th>\n",
       "      <th>Spam_Ham</th>\n",
       "      <th>num_Characters</th>\n",
       "      <th>num_words</th>\n",
       "      <th>num_sentences</th>\n",
       "    </tr>\n",
       "  </thead>\n",
       "  <tbody>\n",
       "    <tr>\n",
       "      <th>0</th>\n",
       "      <td>0</td>\n",
       "      <td>Go until jurong point, crazy.. Available only ...</td>\n",
       "      <td>111</td>\n",
       "      <td>24</td>\n",
       "      <td>2</td>\n",
       "    </tr>\n",
       "    <tr>\n",
       "      <th>1</th>\n",
       "      <td>0</td>\n",
       "      <td>Ok lar... Joking wif u oni...</td>\n",
       "      <td>29</td>\n",
       "      <td>8</td>\n",
       "      <td>2</td>\n",
       "    </tr>\n",
       "    <tr>\n",
       "      <th>2</th>\n",
       "      <td>1</td>\n",
       "      <td>Free entry in 2 a wkly comp to win FA Cup fina...</td>\n",
       "      <td>155</td>\n",
       "      <td>37</td>\n",
       "      <td>2</td>\n",
       "    </tr>\n",
       "    <tr>\n",
       "      <th>3</th>\n",
       "      <td>0</td>\n",
       "      <td>U dun say so early hor... U c already then say...</td>\n",
       "      <td>49</td>\n",
       "      <td>13</td>\n",
       "      <td>1</td>\n",
       "    </tr>\n",
       "    <tr>\n",
       "      <th>4</th>\n",
       "      <td>0</td>\n",
       "      <td>Nah I don't think he goes to usf, he lives aro...</td>\n",
       "      <td>61</td>\n",
       "      <td>15</td>\n",
       "      <td>1</td>\n",
       "    </tr>\n",
       "  </tbody>\n",
       "</table>\n",
       "</div>"
      ],
      "text/plain": [
       "   Target                                           Spam_Ham  num_Characters  \\\n",
       "0       0  Go until jurong point, crazy.. Available only ...             111   \n",
       "1       0                      Ok lar... Joking wif u oni...              29   \n",
       "2       1  Free entry in 2 a wkly comp to win FA Cup fina...             155   \n",
       "3       0  U dun say so early hor... U c already then say...              49   \n",
       "4       0  Nah I don't think he goes to usf, he lives aro...              61   \n",
       "\n",
       "   num_words  num_sentences  \n",
       "0         24              2  \n",
       "1          8              2  \n",
       "2         37              2  \n",
       "3         13              1  \n",
       "4         15              1  "
      ]
     },
     "execution_count": 92,
     "metadata": {},
     "output_type": "execute_result"
    }
   ],
   "source": [
    "df.head()"
   ]
  },
  {
   "cell_type": "code",
   "execution_count": 93,
   "id": "f4629f93",
   "metadata": {
    "scrolled": true
   },
   "outputs": [
    {
     "data": {
      "text/html": [
       "<div>\n",
       "<style scoped>\n",
       "    .dataframe tbody tr th:only-of-type {\n",
       "        vertical-align: middle;\n",
       "    }\n",
       "\n",
       "    .dataframe tbody tr th {\n",
       "        vertical-align: top;\n",
       "    }\n",
       "\n",
       "    .dataframe thead th {\n",
       "        text-align: right;\n",
       "    }\n",
       "</style>\n",
       "<table border=\"1\" class=\"dataframe\">\n",
       "  <thead>\n",
       "    <tr style=\"text-align: right;\">\n",
       "      <th></th>\n",
       "      <th>num_Characters</th>\n",
       "      <th>num_words</th>\n",
       "      <th>num_sentences</th>\n",
       "    </tr>\n",
       "  </thead>\n",
       "  <tbody>\n",
       "    <tr>\n",
       "      <th>count</th>\n",
       "      <td>5169.000000</td>\n",
       "      <td>5169.000000</td>\n",
       "      <td>5169.000000</td>\n",
       "    </tr>\n",
       "    <tr>\n",
       "      <th>mean</th>\n",
       "      <td>78.977945</td>\n",
       "      <td>18.455794</td>\n",
       "      <td>1.965564</td>\n",
       "    </tr>\n",
       "    <tr>\n",
       "      <th>std</th>\n",
       "      <td>58.236293</td>\n",
       "      <td>13.324758</td>\n",
       "      <td>1.448541</td>\n",
       "    </tr>\n",
       "    <tr>\n",
       "      <th>min</th>\n",
       "      <td>2.000000</td>\n",
       "      <td>1.000000</td>\n",
       "      <td>1.000000</td>\n",
       "    </tr>\n",
       "    <tr>\n",
       "      <th>25%</th>\n",
       "      <td>36.000000</td>\n",
       "      <td>9.000000</td>\n",
       "      <td>1.000000</td>\n",
       "    </tr>\n",
       "    <tr>\n",
       "      <th>50%</th>\n",
       "      <td>60.000000</td>\n",
       "      <td>15.000000</td>\n",
       "      <td>1.000000</td>\n",
       "    </tr>\n",
       "    <tr>\n",
       "      <th>75%</th>\n",
       "      <td>117.000000</td>\n",
       "      <td>26.000000</td>\n",
       "      <td>2.000000</td>\n",
       "    </tr>\n",
       "    <tr>\n",
       "      <th>max</th>\n",
       "      <td>910.000000</td>\n",
       "      <td>220.000000</td>\n",
       "      <td>38.000000</td>\n",
       "    </tr>\n",
       "  </tbody>\n",
       "</table>\n",
       "</div>"
      ],
      "text/plain": [
       "       num_Characters    num_words  num_sentences\n",
       "count     5169.000000  5169.000000    5169.000000\n",
       "mean        78.977945    18.455794       1.965564\n",
       "std         58.236293    13.324758       1.448541\n",
       "min          2.000000     1.000000       1.000000\n",
       "25%         36.000000     9.000000       1.000000\n",
       "50%         60.000000    15.000000       1.000000\n",
       "75%        117.000000    26.000000       2.000000\n",
       "max        910.000000   220.000000      38.000000"
      ]
     },
     "execution_count": 93,
     "metadata": {},
     "output_type": "execute_result"
    }
   ],
   "source": [
    "#  to check description?(optional part to use it but you have to perform with numbers)\n",
    "df[[\"num_Characters\", 'num_words', 'num_sentences']].describe()"
   ]
  },
  {
   "cell_type": "code",
   "execution_count": 94,
   "id": "b72e3c34",
   "metadata": {},
   "outputs": [],
   "source": [
    "# here is the prediction -> max\n",
    "# num_Characters -> 910.00\n",
    "# num_words -> 220\n",
    "# num_sentences -> 38"
   ]
  },
  {
   "cell_type": "markdown",
   "id": "b68d8fb6",
   "metadata": {},
   "source": [
    "<h1> Ham</h1>"
   ]
  },
  {
   "cell_type": "code",
   "execution_count": 95,
   "id": "c2ab702d",
   "metadata": {},
   "outputs": [
    {
     "data": {
      "text/html": [
       "<div>\n",
       "<style scoped>\n",
       "    .dataframe tbody tr th:only-of-type {\n",
       "        vertical-align: middle;\n",
       "    }\n",
       "\n",
       "    .dataframe tbody tr th {\n",
       "        vertical-align: top;\n",
       "    }\n",
       "\n",
       "    .dataframe thead th {\n",
       "        text-align: right;\n",
       "    }\n",
       "</style>\n",
       "<table border=\"1\" class=\"dataframe\">\n",
       "  <thead>\n",
       "    <tr style=\"text-align: right;\">\n",
       "      <th></th>\n",
       "      <th>num_Characters</th>\n",
       "      <th>num_words</th>\n",
       "      <th>num_sentences</th>\n",
       "    </tr>\n",
       "  </thead>\n",
       "  <tbody>\n",
       "    <tr>\n",
       "      <th>count</th>\n",
       "      <td>4516.000000</td>\n",
       "      <td>4516.000000</td>\n",
       "      <td>4516.000000</td>\n",
       "    </tr>\n",
       "    <tr>\n",
       "      <th>mean</th>\n",
       "      <td>70.459256</td>\n",
       "      <td>17.123782</td>\n",
       "      <td>1.820195</td>\n",
       "    </tr>\n",
       "    <tr>\n",
       "      <th>std</th>\n",
       "      <td>56.358207</td>\n",
       "      <td>13.493970</td>\n",
       "      <td>1.383657</td>\n",
       "    </tr>\n",
       "    <tr>\n",
       "      <th>min</th>\n",
       "      <td>2.000000</td>\n",
       "      <td>1.000000</td>\n",
       "      <td>1.000000</td>\n",
       "    </tr>\n",
       "    <tr>\n",
       "      <th>25%</th>\n",
       "      <td>34.000000</td>\n",
       "      <td>8.000000</td>\n",
       "      <td>1.000000</td>\n",
       "    </tr>\n",
       "    <tr>\n",
       "      <th>50%</th>\n",
       "      <td>52.000000</td>\n",
       "      <td>13.000000</td>\n",
       "      <td>1.000000</td>\n",
       "    </tr>\n",
       "    <tr>\n",
       "      <th>75%</th>\n",
       "      <td>90.000000</td>\n",
       "      <td>22.000000</td>\n",
       "      <td>2.000000</td>\n",
       "    </tr>\n",
       "    <tr>\n",
       "      <th>max</th>\n",
       "      <td>910.000000</td>\n",
       "      <td>220.000000</td>\n",
       "      <td>38.000000</td>\n",
       "    </tr>\n",
       "  </tbody>\n",
       "</table>\n",
       "</div>"
      ],
      "text/plain": [
       "       num_Characters    num_words  num_sentences\n",
       "count     4516.000000  4516.000000    4516.000000\n",
       "mean        70.459256    17.123782       1.820195\n",
       "std         56.358207    13.493970       1.383657\n",
       "min          2.000000     1.000000       1.000000\n",
       "25%         34.000000     8.000000       1.000000\n",
       "50%         52.000000    13.000000       1.000000\n",
       "75%         90.000000    22.000000       2.000000\n",
       "max        910.000000   220.000000      38.000000"
      ]
     },
     "execution_count": 95,
     "metadata": {},
     "output_type": "execute_result"
    }
   ],
   "source": [
    "#ham -> 0\n",
    "df[df[\"Target\"]==0] [[\"num_Characters\", 'num_words', 'num_sentences']].describe()"
   ]
  },
  {
   "cell_type": "code",
   "execution_count": 96,
   "id": "ce48bc72",
   "metadata": {},
   "outputs": [
    {
     "data": {
      "text/html": [
       "<div>\n",
       "<style scoped>\n",
       "    .dataframe tbody tr th:only-of-type {\n",
       "        vertical-align: middle;\n",
       "    }\n",
       "\n",
       "    .dataframe tbody tr th {\n",
       "        vertical-align: top;\n",
       "    }\n",
       "\n",
       "    .dataframe thead th {\n",
       "        text-align: right;\n",
       "    }\n",
       "</style>\n",
       "<table border=\"1\" class=\"dataframe\">\n",
       "  <thead>\n",
       "    <tr style=\"text-align: right;\">\n",
       "      <th></th>\n",
       "      <th>num_Characters</th>\n",
       "      <th>num_words</th>\n",
       "      <th>num_sentences</th>\n",
       "    </tr>\n",
       "  </thead>\n",
       "  <tbody>\n",
       "    <tr>\n",
       "      <th>count</th>\n",
       "      <td>653.000000</td>\n",
       "      <td>653.000000</td>\n",
       "      <td>653.000000</td>\n",
       "    </tr>\n",
       "    <tr>\n",
       "      <th>mean</th>\n",
       "      <td>137.891271</td>\n",
       "      <td>27.667688</td>\n",
       "      <td>2.970904</td>\n",
       "    </tr>\n",
       "    <tr>\n",
       "      <th>std</th>\n",
       "      <td>30.137753</td>\n",
       "      <td>7.008418</td>\n",
       "      <td>1.488425</td>\n",
       "    </tr>\n",
       "    <tr>\n",
       "      <th>min</th>\n",
       "      <td>13.000000</td>\n",
       "      <td>2.000000</td>\n",
       "      <td>1.000000</td>\n",
       "    </tr>\n",
       "    <tr>\n",
       "      <th>25%</th>\n",
       "      <td>132.000000</td>\n",
       "      <td>25.000000</td>\n",
       "      <td>2.000000</td>\n",
       "    </tr>\n",
       "    <tr>\n",
       "      <th>50%</th>\n",
       "      <td>149.000000</td>\n",
       "      <td>29.000000</td>\n",
       "      <td>3.000000</td>\n",
       "    </tr>\n",
       "    <tr>\n",
       "      <th>75%</th>\n",
       "      <td>157.000000</td>\n",
       "      <td>32.000000</td>\n",
       "      <td>4.000000</td>\n",
       "    </tr>\n",
       "    <tr>\n",
       "      <th>max</th>\n",
       "      <td>224.000000</td>\n",
       "      <td>46.000000</td>\n",
       "      <td>9.000000</td>\n",
       "    </tr>\n",
       "  </tbody>\n",
       "</table>\n",
       "</div>"
      ],
      "text/plain": [
       "       num_Characters   num_words  num_sentences\n",
       "count      653.000000  653.000000     653.000000\n",
       "mean       137.891271   27.667688       2.970904\n",
       "std         30.137753    7.008418       1.488425\n",
       "min         13.000000    2.000000       1.000000\n",
       "25%        132.000000   25.000000       2.000000\n",
       "50%        149.000000   29.000000       3.000000\n",
       "75%        157.000000   32.000000       4.000000\n",
       "max        224.000000   46.000000       9.000000"
      ]
     },
     "execution_count": 96,
     "metadata": {},
     "output_type": "execute_result"
    }
   ],
   "source": [
    "#  Also we do same thing with Spam messages\n",
    "df[df[\"Target\"]==1] [[\"num_Characters\", 'num_words', 'num_sentences']].describe()"
   ]
  },
  {
   "cell_type": "code",
   "execution_count": 97,
   "id": "56931be8",
   "metadata": {},
   "outputs": [],
   "source": [
    "# above the figure isn't good to understand perfectly, thereby going to make a graph plot -> histogram"
   ]
  },
  {
   "cell_type": "code",
   "execution_count": 98,
   "id": "8a319120-4451-45da-8263-d336e11125d6",
   "metadata": {},
   "outputs": [],
   "source": [
    "# !pip install scikit-learn"
   ]
  },
  {
   "cell_type": "code",
   "execution_count": 99,
   "id": "2d0bed01",
   "metadata": {},
   "outputs": [
    {
     "name": "stderr",
     "output_type": "stream",
     "text": [
      "C:\\Users\\lenovo\\AnacondaFolder\\anaconda3\\Lib\\site-packages\\seaborn\\_oldcore.py:1119: FutureWarning: use_inf_as_na option is deprecated and will be removed in a future version. Convert inf values to NaN before operating instead.\n",
      "  with pd.option_context('mode.use_inf_as_na', True):\n",
      "C:\\Users\\lenovo\\AnacondaFolder\\anaconda3\\Lib\\site-packages\\seaborn\\_oldcore.py:1119: FutureWarning: use_inf_as_na option is deprecated and will be removed in a future version. Convert inf values to NaN before operating instead.\n",
      "  with pd.option_context('mode.use_inf_as_na', True):\n"
     ]
    },
    {
     "data": {
      "text/plain": [
       "<Axes: xlabel='num_Characters', ylabel='Count'>"
      ]
     },
     "execution_count": 99,
     "metadata": {},
     "output_type": "execute_result"
    },
    {
     "data": {
      "image/png": "[encoded data removed]",
      "text/plain": [
       "<Figure size 1300x900 with 1 Axes>"
      ]
     },
     "metadata": {},
     "output_type": "display_data"
    }
   ],
   "source": [
    "# so imported the seaborn lib\n",
    "\n",
    "import seaborn as sns\n",
    "import matplotlib.pyplot as plt\n",
    "\n",
    "\n",
    "# into Histogram plot.\n",
    "# sns.histplot(df  [df [\"Target\"] ==0]   ['num_Characters']  )\n",
    "\n",
    "\n",
    "# here going to analysis both the stuffs based on their one num_Characters occurance.\n",
    "\n",
    "\n",
    "# so that, to visable perfectly\n",
    "plt.figure(figsize=(13, 9))\n",
    "# Ham message\n",
    "sns.histplot(df  [df [\"Target\"] == 0] [\"num_Characters\"], color= \"blue\")\n",
    "\n",
    "# Spam message\n",
    "sns.histplot(df [df[\"Target\"] == 1] [\"num_Characters\"], color= \"yellow\")\n",
    "\n",
    "# but it's not visable perfectly so ?"
   ]
  },
  {
   "cell_type": "code",
   "execution_count": 100,
   "id": "15709708",
   "metadata": {},
   "outputs": [
    {
     "data": {
      "text/html": [
       "<div>\n",
       "<style scoped>\n",
       "    .dataframe tbody tr th:only-of-type {\n",
       "        vertical-align: middle;\n",
       "    }\n",
       "\n",
       "    .dataframe tbody tr th {\n",
       "        vertical-align: top;\n",
       "    }\n",
       "\n",
       "    .dataframe thead th {\n",
       "        text-align: right;\n",
       "    }\n",
       "</style>\n",
       "<table border=\"1\" class=\"dataframe\">\n",
       "  <thead>\n",
       "    <tr style=\"text-align: right;\">\n",
       "      <th></th>\n",
       "      <th>Target</th>\n",
       "      <th>Spam_Ham</th>\n",
       "      <th>num_Characters</th>\n",
       "      <th>num_words</th>\n",
       "      <th>num_sentences</th>\n",
       "    </tr>\n",
       "  </thead>\n",
       "  <tbody>\n",
       "    <tr>\n",
       "      <th>0</th>\n",
       "      <td>0</td>\n",
       "      <td>Go until jurong point, crazy.. Available only ...</td>\n",
       "      <td>111</td>\n",
       "      <td>24</td>\n",
       "      <td>2</td>\n",
       "    </tr>\n",
       "    <tr>\n",
       "      <th>1</th>\n",
       "      <td>0</td>\n",
       "      <td>Ok lar... Joking wif u oni...</td>\n",
       "      <td>29</td>\n",
       "      <td>8</td>\n",
       "      <td>2</td>\n",
       "    </tr>\n",
       "    <tr>\n",
       "      <th>2</th>\n",
       "      <td>1</td>\n",
       "      <td>Free entry in 2 a wkly comp to win FA Cup fina...</td>\n",
       "      <td>155</td>\n",
       "      <td>37</td>\n",
       "      <td>2</td>\n",
       "    </tr>\n",
       "    <tr>\n",
       "      <th>3</th>\n",
       "      <td>0</td>\n",
       "      <td>U dun say so early hor... U c already then say...</td>\n",
       "      <td>49</td>\n",
       "      <td>13</td>\n",
       "      <td>1</td>\n",
       "    </tr>\n",
       "    <tr>\n",
       "      <th>4</th>\n",
       "      <td>0</td>\n",
       "      <td>Nah I don't think he goes to usf, he lives aro...</td>\n",
       "      <td>61</td>\n",
       "      <td>15</td>\n",
       "      <td>1</td>\n",
       "    </tr>\n",
       "  </tbody>\n",
       "</table>\n",
       "</div>"
      ],
      "text/plain": [
       "   Target                                           Spam_Ham  num_Characters  \\\n",
       "0       0  Go until jurong point, crazy.. Available only ...             111   \n",
       "1       0                      Ok lar... Joking wif u oni...              29   \n",
       "2       1  Free entry in 2 a wkly comp to win FA Cup fina...             155   \n",
       "3       0  U dun say so early hor... U c already then say...              49   \n",
       "4       0  Nah I don't think he goes to usf, he lives aro...              61   \n",
       "\n",
       "   num_words  num_sentences  \n",
       "0         24              2  \n",
       "1          8              2  \n",
       "2         37              2  \n",
       "3         13              1  \n",
       "4         15              1  "
      ]
     },
     "execution_count": 100,
     "metadata": {},
     "output_type": "execute_result"
    }
   ],
   "source": [
    "#print once again\n",
    "df.head()"
   ]
  },
  {
   "cell_type": "code",
   "execution_count": 101,
   "id": "2167d677",
   "metadata": {},
   "outputs": [
    {
     "name": "stderr",
     "output_type": "stream",
     "text": [
      "C:\\Users\\lenovo\\AnacondaFolder\\anaconda3\\Lib\\site-packages\\seaborn\\_oldcore.py:1119: FutureWarning: use_inf_as_na option is deprecated and will be removed in a future version. Convert inf values to NaN before operating instead.\n",
      "  with pd.option_context('mode.use_inf_as_na', True):\n",
      "C:\\Users\\lenovo\\AnacondaFolder\\anaconda3\\Lib\\site-packages\\seaborn\\_oldcore.py:1119: FutureWarning: use_inf_as_na option is deprecated and will be removed in a future version. Convert inf values to NaN before operating instead.\n",
      "  with pd.option_context('mode.use_inf_as_na', True):\n"
     ]
    },
    {
     "data": {
      "text/plain": [
       "<Axes: xlabel='num_words', ylabel='Count'>"
      ]
     },
     "execution_count": 101,
     "metadata": {},
     "output_type": "execute_result"
    },
    {
     "data": {
      "image/png": "[encoded data removed]",
      "text/plain": [
       "<Figure size 640x480 with 1 Axes>"
      ]
     },
     "metadata": {},
     "output_type": "display_data"
    }
   ],
   "source": [
    "# also same thing, to do with words_counts or analysis\n",
    "\n",
    "# Ham message\n",
    "sns.histplot(df[df[\"Target\"] == 0] [\"num_words\"])\n",
    "\n",
    "#Spam\n",
    "sns.histplot(df[df[\"Target\"]== 1] [\"num_words\"])\n"
   ]
  },
  {
   "cell_type": "code",
   "execution_count": 102,
   "id": "edd967c5",
   "metadata": {},
   "outputs": [
    {
     "name": "stderr",
     "output_type": "stream",
     "text": [
      "C:\\Users\\lenovo\\AnacondaFolder\\anaconda3\\Lib\\site-packages\\seaborn\\_oldcore.py:1119: FutureWarning: use_inf_as_na option is deprecated and will be removed in a future version. Convert inf values to NaN before operating instead.\n",
      "  with pd.option_context('mode.use_inf_as_na', True):\n",
      "C:\\Users\\lenovo\\AnacondaFolder\\anaconda3\\Lib\\site-packages\\seaborn\\_oldcore.py:1119: FutureWarning: use_inf_as_na option is deprecated and will be removed in a future version. Convert inf values to NaN before operating instead.\n",
      "  with pd.option_context('mode.use_inf_as_na', True):\n",
      "C:\\Users\\lenovo\\AnacondaFolder\\anaconda3\\Lib\\site-packages\\seaborn\\_oldcore.py:1119: FutureWarning: use_inf_as_na option is deprecated and will be removed in a future version. Convert inf values to NaN before operating instead.\n",
      "  with pd.option_context('mode.use_inf_as_na', True):\n"
     ]
    },
    {
     "data": {
      "text/plain": [
       "<seaborn.axisgrid.PairGrid at 0x1ca89f67c50>"
      ]
     },
     "execution_count": 102,
     "metadata": {},
     "output_type": "execute_result"
    },
    {
     "data": {
      "image/png": "[encoded data removed]",
      "text/plain": [
       "<Figure size 808.875x750 with 12 Axes>"
      ]
     },
     "metadata": {},
     "output_type": "display_data"
    }
   ],
   "source": [
    "# let's figure out difference among the characters, words and sentences\n",
    "\n",
    "# using pair_plot\n",
    "sns.pairplot(df, hue=\"Target\")"
   ]
  },
  {
   "cell_type": "markdown",
   "id": "b1759702-7f63-46c7-8fbd-e80c22d576ad",
   "metadata": {},
   "source": [
    "<b>ALert! <br>\n",
    "The error ValueError: could not convert string to float occurs when trying to perform numerical operations on non-numerical data, such as text. In the context of computing correlations using corr(), this error suggests that your DataFrame contains non-numeric data."
   ]
  },
  {
   "cell_type": "code",
   "execution_count": 103,
   "id": "aa19565e",
   "metadata": {},
   "outputs": [
    {
     "data": {
      "text/html": [
       "<div>\n",
       "<style scoped>\n",
       "    .dataframe tbody tr th:only-of-type {\n",
       "        vertical-align: middle;\n",
       "    }\n",
       "\n",
       "    .dataframe tbody tr th {\n",
       "        vertical-align: top;\n",
       "    }\n",
       "\n",
       "    .dataframe thead th {\n",
       "        text-align: right;\n",
       "    }\n",
       "</style>\n",
       "<table border=\"1\" class=\"dataframe\">\n",
       "  <thead>\n",
       "    <tr style=\"text-align: right;\">\n",
       "      <th></th>\n",
       "      <th>Target</th>\n",
       "      <th>num_Characters</th>\n",
       "      <th>num_words</th>\n",
       "      <th>num_sentences</th>\n",
       "    </tr>\n",
       "  </thead>\n",
       "  <tbody>\n",
       "    <tr>\n",
       "      <th>Target</th>\n",
       "      <td>1.000000</td>\n",
       "      <td>0.384717</td>\n",
       "      <td>0.262912</td>\n",
       "      <td>0.263939</td>\n",
       "    </tr>\n",
       "    <tr>\n",
       "      <th>num_Characters</th>\n",
       "      <td>0.384717</td>\n",
       "      <td>1.000000</td>\n",
       "      <td>0.965760</td>\n",
       "      <td>0.624139</td>\n",
       "    </tr>\n",
       "    <tr>\n",
       "      <th>num_words</th>\n",
       "      <td>0.262912</td>\n",
       "      <td>0.965760</td>\n",
       "      <td>1.000000</td>\n",
       "      <td>0.679971</td>\n",
       "    </tr>\n",
       "    <tr>\n",
       "      <th>num_sentences</th>\n",
       "      <td>0.263939</td>\n",
       "      <td>0.624139</td>\n",
       "      <td>0.679971</td>\n",
       "      <td>1.000000</td>\n",
       "    </tr>\n",
       "  </tbody>\n",
       "</table>\n",
       "</div>"
      ],
      "text/plain": [
       "                  Target  num_Characters  num_words  num_sentences\n",
       "Target          1.000000        0.384717   0.262912       0.263939\n",
       "num_Characters  0.384717        1.000000   0.965760       0.624139\n",
       "num_words       0.262912        0.965760   1.000000       0.679971\n",
       "num_sentences   0.263939        0.624139   0.679971       1.000000"
      ]
     },
     "execution_count": 103,
     "metadata": {},
     "output_type": "execute_result"
    }
   ],
   "source": [
    "# to predict the data, co-relation\n",
    "df = df.select_dtypes(include=[float, int])\n",
    "\n",
    "# what is the co-relation among them (0----1 b/w, it is good if close to 1)\n",
    "df.corr()"
   ]
  },
  {
   "cell_type": "code",
   "execution_count": 104,
   "id": "ff261c69",
   "metadata": {},
   "outputs": [
    {
     "data": {
      "text/plain": [
       "<Axes: >"
      ]
     },
     "execution_count": 104,
     "metadata": {},
     "output_type": "execute_result"
    },
    {
     "data": {
      "image/png": "[encoded data removed]",
      "text/plain": [
       "<Figure size 640x480 with 2 Axes>"
      ]
     },
     "metadata": {},
     "output_type": "display_data"
    }
   ],
   "source": [
    "# OR \n",
    "#le's it into head_map\n",
    "sns.heatmap(df.corr(), annot= True)\n",
    "\n",
    "# note: annot -> to showing values after inserted annot."
   ]
  },
  {
   "cell_type": "markdown",
   "id": "f3ae52e4",
   "metadata": {},
   "source": [
    "#                               Data Preprocessing\n",
    "\n",
    "<!-- lower case\n",
    "Tokenization\n",
    "Removing special characters\n",
    "removing stop words and punctuation\n",
    "stemming -->"
   ]
  },
  {
   "cell_type": "code",
   "execution_count": 105,
   "id": "e9f2a69a",
   "metadata": {},
   "outputs": [
    {
     "name": "stderr",
     "output_type": "stream",
     "text": [
      "[nltk_data] Downloading package stopwords to\n",
      "[nltk_data]     C:\\Users\\lenovo\\AppData\\Roaming\\nltk_data...\n",
      "[nltk_data]   Package stopwords is already up-to-date!\n"
     ]
    },
    {
     "data": {
      "text/plain": [
       "['i',\n",
       " 'me',\n",
       " 'my',\n",
       " 'myself',\n",
       " 'we',\n",
       " 'our',\n",
       " 'ours',\n",
       " 'ourselves',\n",
       " 'you',\n",
       " \"you're\",\n",
       " \"you've\",\n",
       " \"you'll\",\n",
       " \"you'd\",\n",
       " 'your',\n",
       " 'yours',\n",
       " 'yourself',\n",
       " 'yourselves',\n",
       " 'he',\n",
       " 'him',\n",
       " 'his',\n",
       " 'himself',\n",
       " 'she',\n",
       " \"she's\",\n",
       " 'her',\n",
       " 'hers',\n",
       " 'herself',\n",
       " 'it',\n",
       " \"it's\",\n",
       " 'its',\n",
       " 'itself',\n",
       " 'they',\n",
       " 'them',\n",
       " 'their',\n",
       " 'theirs',\n",
       " 'themselves',\n",
       " 'what',\n",
       " 'which',\n",
       " 'who',\n",
       " 'whom',\n",
       " 'this',\n",
       " 'that',\n",
       " \"that'll\",\n",
       " 'these',\n",
       " 'those',\n",
       " 'am',\n",
       " 'is',\n",
       " 'are',\n",
       " 'was',\n",
       " 'were',\n",
       " 'be',\n",
       " 'been',\n",
       " 'being',\n",
       " 'have',\n",
       " 'has',\n",
       " 'had',\n",
       " 'having',\n",
       " 'do',\n",
       " 'does',\n",
       " 'did',\n",
       " 'doing',\n",
       " 'a',\n",
       " 'an',\n",
       " 'the',\n",
       " 'and',\n",
       " 'but',\n",
       " 'if',\n",
       " 'or',\n",
       " 'because',\n",
       " 'as',\n",
       " 'until',\n",
       " 'while',\n",
       " 'of',\n",
       " 'at',\n",
       " 'by',\n",
       " 'for',\n",
       " 'with',\n",
       " 'about',\n",
       " 'against',\n",
       " 'between',\n",
       " 'into',\n",
       " 'through',\n",
       " 'during',\n",
       " 'before',\n",
       " 'after',\n",
       " 'above',\n",
       " 'below',\n",
       " 'to',\n",
       " 'from',\n",
       " 'up',\n",
       " 'down',\n",
       " 'in',\n",
       " 'out',\n",
       " 'on',\n",
       " 'off',\n",
       " 'over',\n",
       " 'under',\n",
       " 'again',\n",
       " 'further',\n",
       " 'then',\n",
       " 'once',\n",
       " 'here',\n",
       " 'there',\n",
       " 'when',\n",
       " 'where',\n",
       " 'why',\n",
       " 'how',\n",
       " 'all',\n",
       " 'any',\n",
       " 'both',\n",
       " 'each',\n",
       " 'few',\n",
       " 'more',\n",
       " 'most',\n",
       " 'other',\n",
       " 'some',\n",
       " 'such',\n",
       " 'no',\n",
       " 'nor',\n",
       " 'not',\n",
       " 'only',\n",
       " 'own',\n",
       " 'same',\n",
       " 'so',\n",
       " 'than',\n",
       " 'too',\n",
       " 'very',\n",
       " 's',\n",
       " 't',\n",
       " 'can',\n",
       " 'will',\n",
       " 'just',\n",
       " 'don',\n",
       " \"don't\",\n",
       " 'should',\n",
       " \"should've\",\n",
       " 'now',\n",
       " 'd',\n",
       " 'll',\n",
       " 'm',\n",
       " 'o',\n",
       " 're',\n",
       " 've',\n",
       " 'y',\n",
       " 'ain',\n",
       " 'aren',\n",
       " \"aren't\",\n",
       " 'couldn',\n",
       " \"couldn't\",\n",
       " 'didn',\n",
       " \"didn't\",\n",
       " 'doesn',\n",
       " \"doesn't\",\n",
       " 'hadn',\n",
       " \"hadn't\",\n",
       " 'hasn',\n",
       " \"hasn't\",\n",
       " 'haven',\n",
       " \"haven't\",\n",
       " 'isn',\n",
       " \"isn't\",\n",
       " 'ma',\n",
       " 'mightn',\n",
       " \"mightn't\",\n",
       " 'mustn',\n",
       " \"mustn't\",\n",
       " 'needn',\n",
       " \"needn't\",\n",
       " 'shan',\n",
       " \"shan't\",\n",
       " 'shouldn',\n",
       " \"shouldn't\",\n",
       " 'wasn',\n",
       " \"wasn't\",\n",
       " 'weren',\n",
       " \"weren't\",\n",
       " 'won',\n",
       " \"won't\",\n",
       " 'wouldn',\n",
       " \"wouldn't\"]"
      ]
     },
     "execution_count": 105,
     "metadata": {},
     "output_type": "execute_result"
    }
   ],
   "source": [
    "# imported nltk.corpus -> checking stop words.\n",
    "\n",
    "\n",
    "# before to runs stopwords, you've to make sure that first installed the import nltk then run it.\n",
    "import nltk\n",
    "nltk.download('stopwords')\n",
    "\n",
    "\n",
    "#  then run it.\n",
    "from nltk.corpus import stopwords\n",
    "stopwords.words(\"english\")"
   ]
  },
  {
   "cell_type": "code",
   "execution_count": 106,
   "id": "2004400e",
   "metadata": {},
   "outputs": [
    {
     "data": {
      "text/plain": [
       "'!\"#$%&\\'()*+,-./:;<=>?@[\\\\]^_`{|}~'"
      ]
     },
     "execution_count": 106,
     "metadata": {},
     "output_type": "execute_result"
    }
   ],
   "source": [
    "#  let's see punctuation mark?\n",
    "\n",
    "import string\n",
    "string.punctuation"
   ]
  },
  {
   "cell_type": "code",
   "execution_count": 118,
   "id": "5cb81cb7",
   "metadata": {},
   "outputs": [
    {
     "data": {
      "text/plain": [
       "''"
      ]
     },
     "execution_count": 118,
     "metadata": {},
     "output_type": "execute_result"
    }
   ],
   "source": [
    "# last one is\n",
    "\n",
    "# import stemming -> removing special characters like: going instead of go, ... etc..\n",
    "\n",
    "from nltk.stem.porter import PorterStemmer\n",
    "ps= PorterStemmer()\n",
    "ps.stem(\"\")"
   ]
  },
  {
   "cell_type": "code",
   "execution_count": 124,
   "id": "ee187f19",
   "metadata": {},
   "outputs": [
    {
     "data": {
      "text/plain": [
       "'okay name ur price long legal wen pick u ave x am xx'"
      ]
     },
     "execution_count": 124,
     "metadata": {},
     "output_type": "execute_result"
    }
   ],
   "source": [
    "# 1 lower case\n",
    "# Tokenization\n",
    "# Removing special characters\n",
    "# Removing stop words and punctuation\n",
    "# stemming.\n",
    "\n",
    "# we're taking 1 functin to convert it into lower case\n",
    "\n",
    "# 2 Tokenization\n",
    "\n",
    "# we're going 1 function to convert it into words_tokenization\n",
    "\n",
    "# 1 -> for the lowe case\n",
    "def Tran_Lw(text):\n",
    "    text= text.lower()\n",
    "    \n",
    "# 2 -> for the word tokenization\n",
    "    text= nltk.word_tokenize(text) #break_down the words from the sentences in list.\n",
    "    \n",
    "    \n",
    "#    take an empty list.\n",
    "\n",
    "# 3 -> for the special characters and punctuation stuffs.\n",
    "    y= []\n",
    "    \n",
    "    for i in text:\n",
    "        if i.isalnum(): # isalnum -> including lower words and numerical except special characters.\n",
    "            y.append(i)\n",
    "            \n",
    "         \n",
    "        \n",
    "#   just copy once remove it.\n",
    "    text=y[ : ]\n",
    "    \n",
    "#   y is empty now.\n",
    "    y.clear()\n",
    "    \n",
    "# 4 -> for the stop words\n",
    "    for i in text:\n",
    "        if i not in stopwords.words(\"english\") and i not in string.punctuation:\n",
    "            y.append(i)\n",
    "            \n",
    "# again as same for stemming\n",
    "    text= y[:]\n",
    "    y.clear()\n",
    "    \n",
    "    \n",
    "# 5 -> for the stemming\n",
    "    for i in text:\n",
    "        y.append(ps.stem(i))\n",
    "        \n",
    "    return \" \".join(y)\n",
    "\n",
    "\n",
    "# statement \n",
    "Tran_Lw(\"Okay name ur price as long as its legal! Wen can I pick them up? Y u ave x ams xx\")"
   ]
  },
  {
   "cell_type": "code",
   "execution_count": 125,
   "id": "50cd9bfe",
   "metadata": {},
   "outputs": [
    {
     "ename": "KeyError",
     "evalue": "'text'",
     "output_type": "error",
     "traceback": [
      "\u001b[1;31m---------------------------------------------------------------------------\u001b[0m",
      "\u001b[1;31mKeyError\u001b[0m                                  Traceback (most recent call last)",
      "File \u001b[1;32m~\\AnacondaFolder\\anaconda3\\Lib\\site-packages\\pandas\\core\\indexes\\base.py:3791\u001b[0m, in \u001b[0;36mIndex.get_loc\u001b[1;34m(self, key)\u001b[0m\n\u001b[0;32m   3790\u001b[0m \u001b[38;5;28;01mtry\u001b[39;00m:\n\u001b[1;32m-> 3791\u001b[0m     \u001b[38;5;28;01mreturn\u001b[39;00m \u001b[38;5;28mself\u001b[39m\u001b[38;5;241m.\u001b[39m_engine\u001b[38;5;241m.\u001b[39mget_loc(casted_key)\n\u001b[0;32m   3792\u001b[0m \u001b[38;5;28;01mexcept\u001b[39;00m \u001b[38;5;167;01mKeyError\u001b[39;00m \u001b[38;5;28;01mas\u001b[39;00m err:\n",
      "File \u001b[1;32mindex.pyx:152\u001b[0m, in \u001b[0;36mpandas._libs.index.IndexEngine.get_loc\u001b[1;34m()\u001b[0m\n",
      "File \u001b[1;32mindex.pyx:181\u001b[0m, in \u001b[0;36mpandas._libs.index.IndexEngine.get_loc\u001b[1;34m()\u001b[0m\n",
      "File \u001b[1;32mpandas\\_libs\\hashtable_class_helper.pxi:7080\u001b[0m, in \u001b[0;36mpandas._libs.hashtable.PyObjectHashTable.get_item\u001b[1;34m()\u001b[0m\n",
      "File \u001b[1;32mpandas\\_libs\\hashtable_class_helper.pxi:7088\u001b[0m, in \u001b[0;36mpandas._libs.hashtable.PyObjectHashTable.get_item\u001b[1;34m()\u001b[0m\n",
      "\u001b[1;31mKeyError\u001b[0m: 'text'",
      "\nThe above exception was the direct cause of the following exception:\n",
      "\u001b[1;31mKeyError\u001b[0m                                  Traceback (most recent call last)",
      "Cell \u001b[1;32mIn[125], line 1\u001b[0m\n\u001b[1;32m----> 1\u001b[0m df[\u001b[38;5;124m\"\u001b[39m\u001b[38;5;124mtext\u001b[39m\u001b[38;5;124m\"\u001b[39m][\u001b[38;5;241m100\u001b[39m]\n",
      "File \u001b[1;32m~\\AnacondaFolder\\anaconda3\\Lib\\site-packages\\pandas\\core\\frame.py:3893\u001b[0m, in \u001b[0;36mDataFrame.__getitem__\u001b[1;34m(self, key)\u001b[0m\n\u001b[0;32m   3891\u001b[0m \u001b[38;5;28;01mif\u001b[39;00m \u001b[38;5;28mself\u001b[39m\u001b[38;5;241m.\u001b[39mcolumns\u001b[38;5;241m.\u001b[39mnlevels \u001b[38;5;241m>\u001b[39m \u001b[38;5;241m1\u001b[39m:\n\u001b[0;32m   3892\u001b[0m     \u001b[38;5;28;01mreturn\u001b[39;00m \u001b[38;5;28mself\u001b[39m\u001b[38;5;241m.\u001b[39m_getitem_multilevel(key)\n\u001b[1;32m-> 3893\u001b[0m indexer \u001b[38;5;241m=\u001b[39m \u001b[38;5;28mself\u001b[39m\u001b[38;5;241m.\u001b[39mcolumns\u001b[38;5;241m.\u001b[39mget_loc(key)\n\u001b[0;32m   3894\u001b[0m \u001b[38;5;28;01mif\u001b[39;00m is_integer(indexer):\n\u001b[0;32m   3895\u001b[0m     indexer \u001b[38;5;241m=\u001b[39m [indexer]\n",
      "File \u001b[1;32m~\\AnacondaFolder\\anaconda3\\Lib\\site-packages\\pandas\\core\\indexes\\base.py:3798\u001b[0m, in \u001b[0;36mIndex.get_loc\u001b[1;34m(self, key)\u001b[0m\n\u001b[0;32m   3793\u001b[0m     \u001b[38;5;28;01mif\u001b[39;00m \u001b[38;5;28misinstance\u001b[39m(casted_key, \u001b[38;5;28mslice\u001b[39m) \u001b[38;5;129;01mor\u001b[39;00m (\n\u001b[0;32m   3794\u001b[0m         \u001b[38;5;28misinstance\u001b[39m(casted_key, abc\u001b[38;5;241m.\u001b[39mIterable)\n\u001b[0;32m   3795\u001b[0m         \u001b[38;5;129;01mand\u001b[39;00m \u001b[38;5;28many\u001b[39m(\u001b[38;5;28misinstance\u001b[39m(x, \u001b[38;5;28mslice\u001b[39m) \u001b[38;5;28;01mfor\u001b[39;00m x \u001b[38;5;129;01min\u001b[39;00m casted_key)\n\u001b[0;32m   3796\u001b[0m     ):\n\u001b[0;32m   3797\u001b[0m         \u001b[38;5;28;01mraise\u001b[39;00m InvalidIndexError(key)\n\u001b[1;32m-> 3798\u001b[0m     \u001b[38;5;28;01mraise\u001b[39;00m \u001b[38;5;167;01mKeyError\u001b[39;00m(key) \u001b[38;5;28;01mfrom\u001b[39;00m \u001b[38;5;21;01merr\u001b[39;00m\n\u001b[0;32m   3799\u001b[0m \u001b[38;5;28;01mexcept\u001b[39;00m \u001b[38;5;167;01mTypeError\u001b[39;00m:\n\u001b[0;32m   3800\u001b[0m     \u001b[38;5;66;03m# If we have a listlike key, _check_indexing_error will raise\u001b[39;00m\n\u001b[0;32m   3801\u001b[0m     \u001b[38;5;66;03m#  InvalidIndexError. Otherwise we fall through and re-raise\u001b[39;00m\n\u001b[0;32m   3802\u001b[0m     \u001b[38;5;66;03m#  the TypeError.\u001b[39;00m\n\u001b[0;32m   3803\u001b[0m     \u001b[38;5;28mself\u001b[39m\u001b[38;5;241m.\u001b[39m_check_indexing_error(key)\n",
      "\u001b[1;31mKeyError\u001b[0m: 'text'"
     ]
    }
   ],
   "source": [
    "df[\"Spam_Ham\"][100]"
   ]
  },
  {
   "cell_type": "code",
   "execution_count": 115,
   "id": "904b3be7",
   "metadata": {},
   "outputs": [
    {
     "ename": "KeyError",
     "evalue": "'Spam_Ham'",
     "output_type": "error",
     "traceback": [
      "\u001b[1;31m---------------------------------------------------------------------------\u001b[0m",
      "\u001b[1;31mKeyError\u001b[0m                                  Traceback (most recent call last)",
      "File \u001b[1;32m~\\AnacondaFolder\\anaconda3\\Lib\\site-packages\\pandas\\core\\indexes\\base.py:3791\u001b[0m, in \u001b[0;36mIndex.get_loc\u001b[1;34m(self, key)\u001b[0m\n\u001b[0;32m   3790\u001b[0m \u001b[38;5;28;01mtry\u001b[39;00m:\n\u001b[1;32m-> 3791\u001b[0m     \u001b[38;5;28;01mreturn\u001b[39;00m \u001b[38;5;28mself\u001b[39m\u001b[38;5;241m.\u001b[39m_engine\u001b[38;5;241m.\u001b[39mget_loc(casted_key)\n\u001b[0;32m   3792\u001b[0m \u001b[38;5;28;01mexcept\u001b[39;00m \u001b[38;5;167;01mKeyError\u001b[39;00m \u001b[38;5;28;01mas\u001b[39;00m err:\n",
      "File \u001b[1;32mindex.pyx:152\u001b[0m, in \u001b[0;36mpandas._libs.index.IndexEngine.get_loc\u001b[1;34m()\u001b[0m\n",
      "File \u001b[1;32mindex.pyx:181\u001b[0m, in \u001b[0;36mpandas._libs.index.IndexEngine.get_loc\u001b[1;34m()\u001b[0m\n",
      "File \u001b[1;32mpandas\\_libs\\hashtable_class_helper.pxi:7080\u001b[0m, in \u001b[0;36mpandas._libs.hashtable.PyObjectHashTable.get_item\u001b[1;34m()\u001b[0m\n",
      "File \u001b[1;32mpandas\\_libs\\hashtable_class_helper.pxi:7088\u001b[0m, in \u001b[0;36mpandas._libs.hashtable.PyObjectHashTable.get_item\u001b[1;34m()\u001b[0m\n",
      "\u001b[1;31mKeyError\u001b[0m: 'Spam_Ham'",
      "\nThe above exception was the direct cause of the following exception:\n",
      "\u001b[1;31mKeyError\u001b[0m                                  Traceback (most recent call last)",
      "Cell \u001b[1;32mIn[115], line 3\u001b[0m\n\u001b[0;32m      1\u001b[0m \u001b[38;5;66;03m# here, gonna to pass into new col\u001b[39;00m\n\u001b[1;32m----> 3\u001b[0m df[\u001b[38;5;124m\"\u001b[39m\u001b[38;5;124mtransformed_text\u001b[39m\u001b[38;5;124m\"\u001b[39m]\u001b[38;5;241m=\u001b[39m df[\u001b[38;5;124m\"\u001b[39m\u001b[38;5;124mSpam_Ham\u001b[39m\u001b[38;5;124m\"\u001b[39m]\u001b[38;5;241m.\u001b[39mapply(Tran_Lw)\n",
      "File \u001b[1;32m~\\AnacondaFolder\\anaconda3\\Lib\\site-packages\\pandas\\core\\frame.py:3893\u001b[0m, in \u001b[0;36mDataFrame.__getitem__\u001b[1;34m(self, key)\u001b[0m\n\u001b[0;32m   3891\u001b[0m \u001b[38;5;28;01mif\u001b[39;00m \u001b[38;5;28mself\u001b[39m\u001b[38;5;241m.\u001b[39mcolumns\u001b[38;5;241m.\u001b[39mnlevels \u001b[38;5;241m>\u001b[39m \u001b[38;5;241m1\u001b[39m:\n\u001b[0;32m   3892\u001b[0m     \u001b[38;5;28;01mreturn\u001b[39;00m \u001b[38;5;28mself\u001b[39m\u001b[38;5;241m.\u001b[39m_getitem_multilevel(key)\n\u001b[1;32m-> 3893\u001b[0m indexer \u001b[38;5;241m=\u001b[39m \u001b[38;5;28mself\u001b[39m\u001b[38;5;241m.\u001b[39mcolumns\u001b[38;5;241m.\u001b[39mget_loc(key)\n\u001b[0;32m   3894\u001b[0m \u001b[38;5;28;01mif\u001b[39;00m is_integer(indexer):\n\u001b[0;32m   3895\u001b[0m     indexer \u001b[38;5;241m=\u001b[39m [indexer]\n",
      "File \u001b[1;32m~\\AnacondaFolder\\anaconda3\\Lib\\site-packages\\pandas\\core\\indexes\\base.py:3798\u001b[0m, in \u001b[0;36mIndex.get_loc\u001b[1;34m(self, key)\u001b[0m\n\u001b[0;32m   3793\u001b[0m     \u001b[38;5;28;01mif\u001b[39;00m \u001b[38;5;28misinstance\u001b[39m(casted_key, \u001b[38;5;28mslice\u001b[39m) \u001b[38;5;129;01mor\u001b[39;00m (\n\u001b[0;32m   3794\u001b[0m         \u001b[38;5;28misinstance\u001b[39m(casted_key, abc\u001b[38;5;241m.\u001b[39mIterable)\n\u001b[0;32m   3795\u001b[0m         \u001b[38;5;129;01mand\u001b[39;00m \u001b[38;5;28many\u001b[39m(\u001b[38;5;28misinstance\u001b[39m(x, \u001b[38;5;28mslice\u001b[39m) \u001b[38;5;28;01mfor\u001b[39;00m x \u001b[38;5;129;01min\u001b[39;00m casted_key)\n\u001b[0;32m   3796\u001b[0m     ):\n\u001b[0;32m   3797\u001b[0m         \u001b[38;5;28;01mraise\u001b[39;00m InvalidIndexError(key)\n\u001b[1;32m-> 3798\u001b[0m     \u001b[38;5;28;01mraise\u001b[39;00m \u001b[38;5;167;01mKeyError\u001b[39;00m(key) \u001b[38;5;28;01mfrom\u001b[39;00m \u001b[38;5;21;01merr\u001b[39;00m\n\u001b[0;32m   3799\u001b[0m \u001b[38;5;28;01mexcept\u001b[39;00m \u001b[38;5;167;01mTypeError\u001b[39;00m:\n\u001b[0;32m   3800\u001b[0m     \u001b[38;5;66;03m# If we have a listlike key, _check_indexing_error will raise\u001b[39;00m\n\u001b[0;32m   3801\u001b[0m     \u001b[38;5;66;03m#  InvalidIndexError. Otherwise we fall through and re-raise\u001b[39;00m\n\u001b[0;32m   3802\u001b[0m     \u001b[38;5;66;03m#  the TypeError.\u001b[39;00m\n\u001b[0;32m   3803\u001b[0m     \u001b[38;5;28mself\u001b[39m\u001b[38;5;241m.\u001b[39m_check_indexing_error(key)\n",
      "\u001b[1;31mKeyError\u001b[0m: 'Spam_Ham'"
     ]
    }
   ],
   "source": [
    "# here, gonna to pass into new col\n",
    "\n",
    "df[\"transformed_text\"]= df[\"Spam_Ham\"].apply(Tran_Lw)"
   ]
  },
  {
   "cell_type": "code",
   "execution_count": null,
   "id": "72dfec3f",
   "metadata": {},
   "outputs": [],
   "source": [
    "# now printed it.\n",
    "df.head(5)"
   ]
  },
  {
   "cell_type": "code",
   "execution_count": 120,
   "id": "e7a065d7",
   "metadata": {},
   "outputs": [],
   "source": [
    "# now, we're going to use word cloud: pip install wordcloud\n",
    "\n",
    "# note: word cloud is the marked important words and increasing size.\n",
    "\n",
    "# imported here.\n",
    "\n",
    "import wordcloud\n",
    "from wordcloud.wordcloud import WordCloud\n",
    "\n",
    "from wordcloud import WordCloud\n",
    "wc= WordCloud(width= 1000, height= 500, min_font_size= 10, background_color= 'white')"
   ]
  },
  {
   "cell_type": "code",
   "execution_count": 121,
   "id": "0002a64c",
   "metadata": {},
   "outputs": [
    {
     "ename": "KeyError",
     "evalue": "'transformed_text'",
     "output_type": "error",
     "traceback": [
      "\u001b[1;31m---------------------------------------------------------------------------\u001b[0m",
      "\u001b[1;31mKeyError\u001b[0m                                  Traceback (most recent call last)",
      "File \u001b[1;32m~\\AnacondaFolder\\anaconda3\\Lib\\site-packages\\pandas\\core\\indexes\\base.py:3791\u001b[0m, in \u001b[0;36mIndex.get_loc\u001b[1;34m(self, key)\u001b[0m\n\u001b[0;32m   3790\u001b[0m \u001b[38;5;28;01mtry\u001b[39;00m:\n\u001b[1;32m-> 3791\u001b[0m     \u001b[38;5;28;01mreturn\u001b[39;00m \u001b[38;5;28mself\u001b[39m\u001b[38;5;241m.\u001b[39m_engine\u001b[38;5;241m.\u001b[39mget_loc(casted_key)\n\u001b[0;32m   3792\u001b[0m \u001b[38;5;28;01mexcept\u001b[39;00m \u001b[38;5;167;01mKeyError\u001b[39;00m \u001b[38;5;28;01mas\u001b[39;00m err:\n",
      "File \u001b[1;32mindex.pyx:152\u001b[0m, in \u001b[0;36mpandas._libs.index.IndexEngine.get_loc\u001b[1;34m()\u001b[0m\n",
      "File \u001b[1;32mindex.pyx:181\u001b[0m, in \u001b[0;36mpandas._libs.index.IndexEngine.get_loc\u001b[1;34m()\u001b[0m\n",
      "File \u001b[1;32mpandas\\_libs\\hashtable_class_helper.pxi:7080\u001b[0m, in \u001b[0;36mpandas._libs.hashtable.PyObjectHashTable.get_item\u001b[1;34m()\u001b[0m\n",
      "File \u001b[1;32mpandas\\_libs\\hashtable_class_helper.pxi:7088\u001b[0m, in \u001b[0;36mpandas._libs.hashtable.PyObjectHashTable.get_item\u001b[1;34m()\u001b[0m\n",
      "\u001b[1;31mKeyError\u001b[0m: 'transformed_text'",
      "\nThe above exception was the direct cause of the following exception:\n",
      "\u001b[1;31mKeyError\u001b[0m                                  Traceback (most recent call last)",
      "Cell \u001b[1;32mIn[121], line 4\u001b[0m\n\u001b[0;32m      1\u001b[0m \u001b[38;5;66;03m# generate function calling.\u001b[39;00m\n\u001b[0;32m      2\u001b[0m \n\u001b[0;32m      3\u001b[0m \u001b[38;5;66;03m# Spam message\u001b[39;00m\n\u001b[1;32m----> 4\u001b[0m spam_wc\u001b[38;5;241m=\u001b[39m wc\u001b[38;5;241m.\u001b[39mgenerate(df[df[\u001b[38;5;124m\"\u001b[39m\u001b[38;5;124mTarget\u001b[39m\u001b[38;5;124m\"\u001b[39m]\u001b[38;5;241m==\u001b[39m \u001b[38;5;241m1\u001b[39m] [\u001b[38;5;124m\"\u001b[39m\u001b[38;5;124mtransformed_text\u001b[39m\u001b[38;5;124m\"\u001b[39m]\u001b[38;5;241m.\u001b[39mstr\u001b[38;5;241m.\u001b[39mcat(sep\u001b[38;5;241m=\u001b[39m\u001b[38;5;124m\"\u001b[39m\u001b[38;5;124m\"\u001b[39m))\n",
      "File \u001b[1;32m~\\AnacondaFolder\\anaconda3\\Lib\\site-packages\\pandas\\core\\frame.py:3893\u001b[0m, in \u001b[0;36mDataFrame.__getitem__\u001b[1;34m(self, key)\u001b[0m\n\u001b[0;32m   3891\u001b[0m \u001b[38;5;28;01mif\u001b[39;00m \u001b[38;5;28mself\u001b[39m\u001b[38;5;241m.\u001b[39mcolumns\u001b[38;5;241m.\u001b[39mnlevels \u001b[38;5;241m>\u001b[39m \u001b[38;5;241m1\u001b[39m:\n\u001b[0;32m   3892\u001b[0m     \u001b[38;5;28;01mreturn\u001b[39;00m \u001b[38;5;28mself\u001b[39m\u001b[38;5;241m.\u001b[39m_getitem_multilevel(key)\n\u001b[1;32m-> 3893\u001b[0m indexer \u001b[38;5;241m=\u001b[39m \u001b[38;5;28mself\u001b[39m\u001b[38;5;241m.\u001b[39mcolumns\u001b[38;5;241m.\u001b[39mget_loc(key)\n\u001b[0;32m   3894\u001b[0m \u001b[38;5;28;01mif\u001b[39;00m is_integer(indexer):\n\u001b[0;32m   3895\u001b[0m     indexer \u001b[38;5;241m=\u001b[39m [indexer]\n",
      "File \u001b[1;32m~\\AnacondaFolder\\anaconda3\\Lib\\site-packages\\pandas\\core\\indexes\\base.py:3798\u001b[0m, in \u001b[0;36mIndex.get_loc\u001b[1;34m(self, key)\u001b[0m\n\u001b[0;32m   3793\u001b[0m     \u001b[38;5;28;01mif\u001b[39;00m \u001b[38;5;28misinstance\u001b[39m(casted_key, \u001b[38;5;28mslice\u001b[39m) \u001b[38;5;129;01mor\u001b[39;00m (\n\u001b[0;32m   3794\u001b[0m         \u001b[38;5;28misinstance\u001b[39m(casted_key, abc\u001b[38;5;241m.\u001b[39mIterable)\n\u001b[0;32m   3795\u001b[0m         \u001b[38;5;129;01mand\u001b[39;00m \u001b[38;5;28many\u001b[39m(\u001b[38;5;28misinstance\u001b[39m(x, \u001b[38;5;28mslice\u001b[39m) \u001b[38;5;28;01mfor\u001b[39;00m x \u001b[38;5;129;01min\u001b[39;00m casted_key)\n\u001b[0;32m   3796\u001b[0m     ):\n\u001b[0;32m   3797\u001b[0m         \u001b[38;5;28;01mraise\u001b[39;00m InvalidIndexError(key)\n\u001b[1;32m-> 3798\u001b[0m     \u001b[38;5;28;01mraise\u001b[39;00m \u001b[38;5;167;01mKeyError\u001b[39;00m(key) \u001b[38;5;28;01mfrom\u001b[39;00m \u001b[38;5;21;01merr\u001b[39;00m\n\u001b[0;32m   3799\u001b[0m \u001b[38;5;28;01mexcept\u001b[39;00m \u001b[38;5;167;01mTypeError\u001b[39;00m:\n\u001b[0;32m   3800\u001b[0m     \u001b[38;5;66;03m# If we have a listlike key, _check_indexing_error will raise\u001b[39;00m\n\u001b[0;32m   3801\u001b[0m     \u001b[38;5;66;03m#  InvalidIndexError. Otherwise we fall through and re-raise\u001b[39;00m\n\u001b[0;32m   3802\u001b[0m     \u001b[38;5;66;03m#  the TypeError.\u001b[39;00m\n\u001b[0;32m   3803\u001b[0m     \u001b[38;5;28mself\u001b[39m\u001b[38;5;241m.\u001b[39m_check_indexing_error(key)\n",
      "\u001b[1;31mKeyError\u001b[0m: 'transformed_text'"
     ]
    }
   ],
   "source": [
    "# generate function calling.\n",
    "\n",
    "# Spam message\n",
    "spam_wc= wc.generate(df[df[\"Target\"]== 1] [\"transformed_text\"].str.cat(sep=\"\"))"
   ]
  },
  {
   "cell_type": "code",
   "execution_count": null,
   "id": "4a8873c3",
   "metadata": {},
   "outputs": [],
   "source": [
    "plt.imshow(spam_wc)\n",
    "\n",
    "# finally removing these hightlight words to make it perfect so that maintain accuracy.."
   ]
  },
  {
   "cell_type": "code",
   "execution_count": 122,
   "id": "30f46be3",
   "metadata": {},
   "outputs": [
    {
     "ename": "KeyError",
     "evalue": "'transformed_text'",
     "output_type": "error",
     "traceback": [
      "\u001b[1;31m---------------------------------------------------------------------------\u001b[0m",
      "\u001b[1;31mKeyError\u001b[0m                                  Traceback (most recent call last)",
      "File \u001b[1;32m~\\AnacondaFolder\\anaconda3\\Lib\\site-packages\\pandas\\core\\indexes\\base.py:3791\u001b[0m, in \u001b[0;36mIndex.get_loc\u001b[1;34m(self, key)\u001b[0m\n\u001b[0;32m   3790\u001b[0m \u001b[38;5;28;01mtry\u001b[39;00m:\n\u001b[1;32m-> 3791\u001b[0m     \u001b[38;5;28;01mreturn\u001b[39;00m \u001b[38;5;28mself\u001b[39m\u001b[38;5;241m.\u001b[39m_engine\u001b[38;5;241m.\u001b[39mget_loc(casted_key)\n\u001b[0;32m   3792\u001b[0m \u001b[38;5;28;01mexcept\u001b[39;00m \u001b[38;5;167;01mKeyError\u001b[39;00m \u001b[38;5;28;01mas\u001b[39;00m err:\n",
      "File \u001b[1;32mindex.pyx:152\u001b[0m, in \u001b[0;36mpandas._libs.index.IndexEngine.get_loc\u001b[1;34m()\u001b[0m\n",
      "File \u001b[1;32mindex.pyx:181\u001b[0m, in \u001b[0;36mpandas._libs.index.IndexEngine.get_loc\u001b[1;34m()\u001b[0m\n",
      "File \u001b[1;32mpandas\\_libs\\hashtable_class_helper.pxi:7080\u001b[0m, in \u001b[0;36mpandas._libs.hashtable.PyObjectHashTable.get_item\u001b[1;34m()\u001b[0m\n",
      "File \u001b[1;32mpandas\\_libs\\hashtable_class_helper.pxi:7088\u001b[0m, in \u001b[0;36mpandas._libs.hashtable.PyObjectHashTable.get_item\u001b[1;34m()\u001b[0m\n",
      "\u001b[1;31mKeyError\u001b[0m: 'transformed_text'",
      "\nThe above exception was the direct cause of the following exception:\n",
      "\u001b[1;31mKeyError\u001b[0m                                  Traceback (most recent call last)",
      "Cell \u001b[1;32mIn[122], line 8\u001b[0m\n\u001b[0;32m      1\u001b[0m \u001b[38;5;66;03m# Ham message\u001b[39;00m\n\u001b[0;32m      2\u001b[0m \n\u001b[0;32m      3\u001b[0m \u001b[38;5;66;03m# import matplotlib.pyplot as plt\u001b[39;00m\n\u001b[0;32m      6\u001b[0m wc\u001b[38;5;241m=\u001b[39m WordCloud(width\u001b[38;5;241m=\u001b[39m \u001b[38;5;241m300\u001b[39m, height\u001b[38;5;241m=\u001b[39m \u001b[38;5;241m300\u001b[39m, min_font_size\u001b[38;5;241m=\u001b[39m \u001b[38;5;241m10\u001b[39m, background_color\u001b[38;5;241m=\u001b[39m \u001b[38;5;124m'\u001b[39m\u001b[38;5;124mwhite\u001b[39m\u001b[38;5;124m'\u001b[39m)\n\u001b[1;32m----> 8\u001b[0m ham_wc\u001b[38;5;241m=\u001b[39m wc\u001b[38;5;241m.\u001b[39mgenerate(df[df[\u001b[38;5;124m\"\u001b[39m\u001b[38;5;124mTarget\u001b[39m\u001b[38;5;124m\"\u001b[39m]\u001b[38;5;241m==\u001b[39m \u001b[38;5;241m0\u001b[39m] [\u001b[38;5;124m\"\u001b[39m\u001b[38;5;124mtransformed_text\u001b[39m\u001b[38;5;124m\"\u001b[39m]\u001b[38;5;241m.\u001b[39mstr\u001b[38;5;241m.\u001b[39mcat(sep\u001b[38;5;241m=\u001b[39m\u001b[38;5;124m\"\u001b[39m\u001b[38;5;124m \u001b[39m\u001b[38;5;124m\"\u001b[39m))\n",
      "File \u001b[1;32m~\\AnacondaFolder\\anaconda3\\Lib\\site-packages\\pandas\\core\\frame.py:3893\u001b[0m, in \u001b[0;36mDataFrame.__getitem__\u001b[1;34m(self, key)\u001b[0m\n\u001b[0;32m   3891\u001b[0m \u001b[38;5;28;01mif\u001b[39;00m \u001b[38;5;28mself\u001b[39m\u001b[38;5;241m.\u001b[39mcolumns\u001b[38;5;241m.\u001b[39mnlevels \u001b[38;5;241m>\u001b[39m \u001b[38;5;241m1\u001b[39m:\n\u001b[0;32m   3892\u001b[0m     \u001b[38;5;28;01mreturn\u001b[39;00m \u001b[38;5;28mself\u001b[39m\u001b[38;5;241m.\u001b[39m_getitem_multilevel(key)\n\u001b[1;32m-> 3893\u001b[0m indexer \u001b[38;5;241m=\u001b[39m \u001b[38;5;28mself\u001b[39m\u001b[38;5;241m.\u001b[39mcolumns\u001b[38;5;241m.\u001b[39mget_loc(key)\n\u001b[0;32m   3894\u001b[0m \u001b[38;5;28;01mif\u001b[39;00m is_integer(indexer):\n\u001b[0;32m   3895\u001b[0m     indexer \u001b[38;5;241m=\u001b[39m [indexer]\n",
      "File \u001b[1;32m~\\AnacondaFolder\\anaconda3\\Lib\\site-packages\\pandas\\core\\indexes\\base.py:3798\u001b[0m, in \u001b[0;36mIndex.get_loc\u001b[1;34m(self, key)\u001b[0m\n\u001b[0;32m   3793\u001b[0m     \u001b[38;5;28;01mif\u001b[39;00m \u001b[38;5;28misinstance\u001b[39m(casted_key, \u001b[38;5;28mslice\u001b[39m) \u001b[38;5;129;01mor\u001b[39;00m (\n\u001b[0;32m   3794\u001b[0m         \u001b[38;5;28misinstance\u001b[39m(casted_key, abc\u001b[38;5;241m.\u001b[39mIterable)\n\u001b[0;32m   3795\u001b[0m         \u001b[38;5;129;01mand\u001b[39;00m \u001b[38;5;28many\u001b[39m(\u001b[38;5;28misinstance\u001b[39m(x, \u001b[38;5;28mslice\u001b[39m) \u001b[38;5;28;01mfor\u001b[39;00m x \u001b[38;5;129;01min\u001b[39;00m casted_key)\n\u001b[0;32m   3796\u001b[0m     ):\n\u001b[0;32m   3797\u001b[0m         \u001b[38;5;28;01mraise\u001b[39;00m InvalidIndexError(key)\n\u001b[1;32m-> 3798\u001b[0m     \u001b[38;5;28;01mraise\u001b[39;00m \u001b[38;5;167;01mKeyError\u001b[39;00m(key) \u001b[38;5;28;01mfrom\u001b[39;00m \u001b[38;5;21;01merr\u001b[39;00m\n\u001b[0;32m   3799\u001b[0m \u001b[38;5;28;01mexcept\u001b[39;00m \u001b[38;5;167;01mTypeError\u001b[39;00m:\n\u001b[0;32m   3800\u001b[0m     \u001b[38;5;66;03m# If we have a listlike key, _check_indexing_error will raise\u001b[39;00m\n\u001b[0;32m   3801\u001b[0m     \u001b[38;5;66;03m#  InvalidIndexError. Otherwise we fall through and re-raise\u001b[39;00m\n\u001b[0;32m   3802\u001b[0m     \u001b[38;5;66;03m#  the TypeError.\u001b[39;00m\n\u001b[0;32m   3803\u001b[0m     \u001b[38;5;28mself\u001b[39m\u001b[38;5;241m.\u001b[39m_check_indexing_error(key)\n",
      "\u001b[1;31mKeyError\u001b[0m: 'transformed_text'"
     ]
    }
   ],
   "source": [
    "# Ham message\n",
    "\n",
    "# import matplotlib.pyplot as plt\n",
    "\n",
    "\n",
    "wc= WordCloud(width= 300, height= 300, min_font_size= 10, background_color= 'white')\n",
    "\n",
    "ham_wc= wc.generate(df[df[\"Target\"]== 0] [\"transformed_text\"].str.cat(sep=\" \"))"
   ]
  },
  {
   "cell_type": "code",
   "execution_count": 123,
   "id": "7aa4016d",
   "metadata": {},
   "outputs": [
    {
     "ename": "NameError",
     "evalue": "name 'ham_wc' is not defined",
     "output_type": "error",
     "traceback": [
      "\u001b[1;31m---------------------------------------------------------------------------\u001b[0m",
      "\u001b[1;31mNameError\u001b[0m                                 Traceback (most recent call last)",
      "Cell \u001b[1;32mIn[123], line 3\u001b[0m\n\u001b[0;32m      1\u001b[0m \u001b[38;5;66;03m# showed\u001b[39;00m\n\u001b[0;32m      2\u001b[0m plt\u001b[38;5;241m.\u001b[39mfigure(figsize\u001b[38;5;241m=\u001b[39m(\u001b[38;5;241m5\u001b[39m, \u001b[38;5;241m5\u001b[39m))\n\u001b[1;32m----> 3\u001b[0m plt\u001b[38;5;241m.\u001b[39mimshow(ham_wc)\n",
      "\u001b[1;31mNameError\u001b[0m: name 'ham_wc' is not defined"
     ]
    },
    {
     "data": {
      "text/plain": [
       "<Figure size 500x500 with 0 Axes>"
      ]
     },
     "metadata": {},
     "output_type": "display_data"
    }
   ],
   "source": [
    "# showed\n",
    "plt.figure(figsize=(5, 5))\n",
    "plt.imshow(ham_wc)"
   ]
  },
  {
   "cell_type": "code",
   "execution_count": 52,
   "id": "d414f0dd",
   "metadata": {},
   "outputs": [],
   "source": [
    "# now, we're going to analysis top 30 words in both spam and ham.\n",
    "\n",
    "# so we need to custom code that is good practice to do."
   ]
  },
  {
   "cell_type": "code",
   "execution_count": null,
   "id": "d7addead",
   "metadata": {},
   "outputs": [],
   "source": [
    "# le't see our data frame\n",
    "df.tail()"
   ]
  },
  {
   "cell_type": "code",
   "execution_count": null,
   "id": "64b7b06a",
   "metadata": {},
   "outputs": [],
   "source": [
    "# now, we're going to figure out\n",
    "\n",
    "# spam\n",
    "\n",
    "# find then adding into a lisf form then iterated it.\n",
    "\n",
    "# making a empty list\n",
    "\n",
    "spam_corpus= [] # for appeding stuffs.\n",
    "\n",
    "for msg in df[df[\"Target\"]==1] [\"transformed_text\"].tolist():\n",
    "#   here just, we split it \n",
    "    for word in msg.split():\n",
    "#       then after appending it.\n",
    "        spam_corpus.append(word) #appending words into spam_corpus"
   ]
  },
  {
   "cell_type": "code",
   "execution_count": null,
   "id": "e0f3d99f",
   "metadata": {},
   "outputs": [],
   "source": [
    "# we just did speration form\n",
    "len(spam_corpus)\n",
    "\n",
    "# now, we're going to remove and try to reduce this number so that maintain data set accuracy."
   ]
  },
  {
   "cell_type": "code",
   "execution_count": null,
   "id": "cf113b2d",
   "metadata": {},
   "outputs": [],
   "source": [
    "# it just creats dict form, like how many times a particular word occured.\n",
    "\n",
    "# imported the lib\n",
    "from collections import Counter\n",
    "\n",
    "# exactly wanted to find -> top most 30 words occurance in spam messages.\n",
    "# Counter(spam_corpus).most_common(30)"
   ]
  },
  {
   "cell_type": "code",
   "execution_count": null,
   "id": "a7b56c06",
   "metadata": {},
   "outputs": [],
   "source": [
    "# and now, we just add it into a dataFrame\n",
    "\n",
    "# pd.DataFrame(Counter(spam_corpus).most_common(30))"
   ]
  },
  {
   "cell_type": "code",
   "execution_count": null,
   "id": "ec10ba6e",
   "metadata": {},
   "outputs": [],
   "source": [
    "# now, we're ploting it into a bar-plot\n",
    "\n",
    "# so ?\n",
    "sns.barplot(x=pd.DataFrame(Counter(spam_corpus).most_common(30))[0], y= pd.DataFrame(Counter(spam_corpus).most_common(30))[1])\n",
    "\n",
    "# for reading purpose\n",
    "plt.xticks(rotation= \"vertical\")\n",
    "\n",
    "# show\n",
    "plt.show()"
   ]
  },
  {
   "cell_type": "code",
   "execution_count": null,
   "id": "8eb3541b",
   "metadata": {},
   "outputs": [],
   "source": [
    "# even through, we can make our project without above the analysis but it's good practice to do and \n",
    "# show your analysis and presentation."
   ]
  },
  {
   "cell_type": "markdown",
   "id": "1a5fbb72",
   "metadata": {},
   "source": [
    "<h1> same process for the ham</h1>"
   ]
  },
  {
   "cell_type": "code",
   "execution_count": 55,
   "id": "da82d2ee",
   "metadata": {},
   "outputs": [],
   "source": [
    "# imported the lib\n",
    "from collections import Counter\n",
    "\n",
    "\n",
    "# now, we do as same for the ham messages\n",
    "\n",
    "# taking an empty list\n",
    "ham_corpus=[]\n",
    "\n",
    "# first: covert into a list then in loop\n",
    "for msg in df[df[\"Target\"]==0] [\"transformed_text\"].tolist():\n",
    "    for word in msg.split():\n",
    "        ham_corpus.append(word)\n",
    "        "
   ]
  },
  {
   "cell_type": "code",
   "execution_count": 56,
   "id": "f924d28c",
   "metadata": {},
   "outputs": [
    {
     "data": {
      "text/plain": [
       "35404"
      ]
     },
     "execution_count": 56,
     "metadata": {},
     "output_type": "execute_result"
    }
   ],
   "source": [
    "len(ham_corpus)"
   ]
  },
  {
   "cell_type": "code",
   "execution_count": 57,
   "id": "afb386b4",
   "metadata": {},
   "outputs": [
    {
     "data": {
      "image/png": "[encoded data removed]",
      "text/plain": [
       "<Figure size 640x480 with 1 Axes>"
      ]
     },
     "metadata": {},
     "output_type": "display_data"
    }
   ],
   "source": [
    "# show in bar-plot\n",
    "# imported the lib\n",
    "from collections import Counter\n",
    "sns.barplot(x= pd.DataFrame(Counter(ham_corpus).most_common(30))[0], y= pd.DataFrame(Counter(ham_corpus).most_common(30))[1])\n",
    "\n",
    "# for reading purpose\n",
    "plt.xticks(rotation= \"vertical\")\n",
    "\n",
    "plt.show()"
   ]
  },
  {
   "cell_type": "markdown",
   "id": "5ea8a7b0",
   "metadata": {},
   "source": [
    "#                                  Model building ( final )\n",
    "\n",
    "<!-- \n",
    " we will try analysis different different algorithem of the machine learning then we see which one is more acurate.-->\n",
    " "
   ]
  },
  {
   "cell_type": "code",
   "execution_count": 58,
   "id": "effedb4f",
   "metadata": {},
   "outputs": [],
   "source": [
    "# finally, we're building a machine leaning model\n",
    "\n",
    "# that's perform certain operations\n",
    "\n",
    "# naive baye\n",
    "# (TF-IDF)"
   ]
  },
  {
   "cell_type": "code",
   "execution_count": 59,
   "id": "4e57e8f1",
   "metadata": {},
   "outputs": [],
   "source": [
    "# note:\n",
    "    \n",
    "# The \"naive algorithm\"\n",
    "\n",
    "# likely refers to the Naive Bayes algorithm, which is a simple but effective machine learning algorithm for classification tasks. It's based on Bayes' theorem with the assumption of independence between features. Despite its simplicity, Naive Bayes can often perform well in practice, especially for tasks where the independence assumption holds reasonably well, such as text classification and spam filtering.\n",
    "\n",
    "# In essence, Naive Bayes calculates the probability of a given data point belonging to each class based on the features of that data point. It then assigns the data point to the class with the highest probability.\n",
    "\n",
    "# The \"naive\" part of its name comes from the assumption of feature independence, which means that the presence of a particular feature in a class is unrelated to the presence of any other feature. While this assumption is often violated in real-world data, Naive Bayes can still perform well, especially with large datasets.\n",
    "\n",
    "# Naive Bayes algorithms come in different variants, such as Gaussian Naive Bayes for continuous features, Multinomial Naive Bayes for discrete features (e.g., word counts), and Bernoulli Naive Bayes for binary features. Each variant is suited to different types of data.\n",
    "\n",
    "\n",
    "# The \"Bag of Words\"\n",
    "\n",
    "# (BoW) model is a commonly used technique in natural language processing (NLP) and information retrieval for representing text data. In this model, a document is represented as a collection or \"bag\" of words, disregarding grammar and word order but maintaining multiplicity. \n",
    "\n",
    "# Here's how the Bag of Words model works:\n",
    "\n",
    "# 1. **Tokenization**: The text is first tokenized, breaking it down into individual words or terms. Punctuation and other non-alphanumeric characters are typically removed, and words are converted to lowercase to ensure consistency.\n",
    "\n",
    "# 2. **Vocabulary Construction**: A vocabulary, or dictionary, is created from the unique words found in the corpus (collection of documents). Each word in the vocabulary is assigned a unique index.\n",
    "\n",
    "# 3. **Vectorization**: Each document is then represented as a numerical vector, where each element corresponds to the count of a word from the vocabulary in the document. This can also be done using other metrics such as term frequency-inverse document frequency (TF-IDF), which weights the importance of words based on their frequency across documents.\n",
    "\n",
    "# 4. **Sparse Representation**: Since most documents only contain a small subset of the words in the vocabulary, the resulting vectors are usually sparse, meaning most of the elements are zero.\n",
    "\n",
    "# The Bag of Words model is a simple yet effective way to represent text data for tasks such as document classification, sentiment analysis, and information retrieval. However, it does not capture the semantic meaning or context of words, and it treats each word as independent, which can limit its effectiveness in capturing the nuances of language. Despite its limitations, the Bag of Words model is widely used as a baseline in many NLP applications."
   ]
  },
  {
   "cell_type": "code",
   "execution_count": 60,
   "id": "957c84a6",
   "metadata": {},
   "outputs": [],
   "source": [
    "#  one of the most algorithem -> naive bayes "
   ]
  },
  {
   "cell_type": "code",
   "execution_count": 61,
   "id": "55d992d2",
   "metadata": {},
   "outputs": [],
   "source": [
    "# note: there are 2,3 solution to convert string into vectorization\n",
    "# bag of words -> frequently words occurance.\n",
    "# vectorization -> \n",
    "# TF- IDF ->\n",
    "#     first:\n",
    "#         we're going to vectrization (string into numerical coverted it.)"
   ]
  },
  {
   "cell_type": "code",
   "execution_count": 62,
   "id": "b25ee5dd",
   "metadata": {},
   "outputs": [],
   "source": [
    "# step: 1\n",
    "#     data -> vectorization using 'bag of words'\n",
    "    \n",
    "# step: naive bayes -> as input\n",
    "\n",
    "\n",
    "# CountVectorizer -> \"bag of words\"\n",
    "\n",
    "# TF-IDF -> vectorizer"
   ]
  },
  {
   "cell_type": "code",
   "execution_count": 63,
   "id": "6e766549",
   "metadata": {},
   "outputs": [],
   "source": [
    "# from sklearn.feature_extraction.text import CountVectorizer, TfidfVectorizer\n",
    "\n",
    "# # based on 'bag of words -> CountVectorizer'\n",
    "# # cv= CountVectorizer()\n",
    "\n",
    "# # TfidfVectorizer\n",
    "# tidf= TfidfVectorizer()"
   ]
  },
  {
   "cell_type": "code",
   "execution_count": 64,
   "id": "d9f77899",
   "metadata": {},
   "outputs": [],
   "source": [
    "# model improvement:\n",
    "\n",
    "from sklearn.feature_extraction.text import CountVectorizer, TfidfVectorizer\n",
    "\n",
    "\n",
    "# instead of taking 5160 approx, 3000 words only.\n",
    "\n",
    "# hit and trial method\n",
    "\n",
    "# very important part to understand it.\n",
    "tidf = TfidfVectorizer(max_features=3000) #best selection after checking the model improvements."
   ]
  },
  {
   "cell_type": "code",
   "execution_count": 65,
   "id": "866b1689",
   "metadata": {},
   "outputs": [],
   "source": [
    "# transfer the data.\n",
    "\n",
    "# CountVectorizer\n",
    "# X = cv.fit_transform(df['transformed_text']).toarray()\n",
    "\n",
    "# tidf\n",
    "X= tidf.fit_transform(df[\"transformed_text\"]).toarray()"
   ]
  },
  {
   "cell_type": "code",
   "execution_count": 66,
   "id": "f25a167c",
   "metadata": {},
   "outputs": [
    {
     "data": {
      "text/plain": [
       "(5169, 3000)"
      ]
     },
     "execution_count": 66,
     "metadata": {},
     "output_type": "execute_result"
    }
   ],
   "source": [
    "# print x\n",
    "# X\n",
    "\n",
    "# checking its shape\n",
    "X.shape"
   ]
  },
  {
   "cell_type": "code",
   "execution_count": 67,
   "id": "f1632bfd",
   "metadata": {},
   "outputs": [],
   "source": [
    "# problem faced: why its column part 3000 ?"
   ]
  },
  {
   "cell_type": "code",
   "execution_count": 68,
   "id": "a042475a",
   "metadata": {},
   "outputs": [
    {
     "data": {
      "text/html": [
       "<div>\n",
       "<style scoped>\n",
       "    .dataframe tbody tr th:only-of-type {\n",
       "        vertical-align: middle;\n",
       "    }\n",
       "\n",
       "    .dataframe tbody tr th {\n",
       "        vertical-align: top;\n",
       "    }\n",
       "\n",
       "    .dataframe thead th {\n",
       "        text-align: right;\n",
       "    }\n",
       "</style>\n",
       "<table border=\"1\" class=\"dataframe\">\n",
       "  <thead>\n",
       "    <tr style=\"text-align: right;\">\n",
       "      <th></th>\n",
       "      <th>Target</th>\n",
       "      <th>Spam_Ham</th>\n",
       "      <th>num_Characters</th>\n",
       "      <th>num_words</th>\n",
       "      <th>num_sentences</th>\n",
       "      <th>transformed_text</th>\n",
       "    </tr>\n",
       "  </thead>\n",
       "  <tbody>\n",
       "    <tr>\n",
       "      <th>0</th>\n",
       "      <td>0</td>\n",
       "      <td>Go until jurong point, crazy.. Available only ...</td>\n",
       "      <td>111</td>\n",
       "      <td>24</td>\n",
       "      <td>2</td>\n",
       "      <td>go jurong point crazi avail bugi n great world...</td>\n",
       "    </tr>\n",
       "    <tr>\n",
       "      <th>1</th>\n",
       "      <td>0</td>\n",
       "      <td>Ok lar... Joking wif u oni...</td>\n",
       "      <td>29</td>\n",
       "      <td>8</td>\n",
       "      <td>2</td>\n",
       "      <td>ok lar joke wif u oni</td>\n",
       "    </tr>\n",
       "    <tr>\n",
       "      <th>2</th>\n",
       "      <td>1</td>\n",
       "      <td>Free entry in 2 a wkly comp to win FA Cup fina...</td>\n",
       "      <td>155</td>\n",
       "      <td>37</td>\n",
       "      <td>2</td>\n",
       "      <td>free entri 2 wkli comp win fa cup final tkt 21...</td>\n",
       "    </tr>\n",
       "    <tr>\n",
       "      <th>3</th>\n",
       "      <td>0</td>\n",
       "      <td>U dun say so early hor... U c already then say...</td>\n",
       "      <td>49</td>\n",
       "      <td>13</td>\n",
       "      <td>1</td>\n",
       "      <td>u dun say earli hor u c alreadi say</td>\n",
       "    </tr>\n",
       "    <tr>\n",
       "      <th>4</th>\n",
       "      <td>0</td>\n",
       "      <td>Nah I don't think he goes to usf, he lives aro...</td>\n",
       "      <td>61</td>\n",
       "      <td>15</td>\n",
       "      <td>1</td>\n",
       "      <td>nah think goe usf live around though</td>\n",
       "    </tr>\n",
       "    <tr>\n",
       "      <th>...</th>\n",
       "      <td>...</td>\n",
       "      <td>...</td>\n",
       "      <td>...</td>\n",
       "      <td>...</td>\n",
       "      <td>...</td>\n",
       "      <td>...</td>\n",
       "    </tr>\n",
       "    <tr>\n",
       "      <th>95</th>\n",
       "      <td>1</td>\n",
       "      <td>Your free ringtone is waiting to be collected....</td>\n",
       "      <td>125</td>\n",
       "      <td>26</td>\n",
       "      <td>4</td>\n",
       "      <td>free rington wait collect simpli text password...</td>\n",
       "    </tr>\n",
       "    <tr>\n",
       "      <th>96</th>\n",
       "      <td>0</td>\n",
       "      <td>Watching telugu movie..wat abt u?</td>\n",
       "      <td>33</td>\n",
       "      <td>8</td>\n",
       "      <td>1</td>\n",
       "      <td>watch telugu movi wat abt u</td>\n",
       "    </tr>\n",
       "    <tr>\n",
       "      <th>97</th>\n",
       "      <td>0</td>\n",
       "      <td>i see. When we finish we have loads of loans t...</td>\n",
       "      <td>51</td>\n",
       "      <td>13</td>\n",
       "      <td>2</td>\n",
       "      <td>see finish load loan pay</td>\n",
       "    </tr>\n",
       "    <tr>\n",
       "      <th>98</th>\n",
       "      <td>0</td>\n",
       "      <td>Hi. Wk been ok - on hols now! Yes on for a bit...</td>\n",
       "      <td>184</td>\n",
       "      <td>47</td>\n",
       "      <td>5</td>\n",
       "      <td>hi wk ok hol ye bit run forgot hairdress appoi...</td>\n",
       "    </tr>\n",
       "    <tr>\n",
       "      <th>99</th>\n",
       "      <td>0</td>\n",
       "      <td>Please don't text me anymore. I have nothing e...</td>\n",
       "      <td>57</td>\n",
       "      <td>14</td>\n",
       "      <td>2</td>\n",
       "      <td>pleas text anymor noth els say</td>\n",
       "    </tr>\n",
       "  </tbody>\n",
       "</table>\n",
       "<p>100 rows × 6 columns</p>\n",
       "</div>"
      ],
      "text/plain": [
       "    Target                                           Spam_Ham  num_Characters  \\\n",
       "0        0  Go until jurong point, crazy.. Available only ...             111   \n",
       "1        0                      Ok lar... Joking wif u oni...              29   \n",
       "2        1  Free entry in 2 a wkly comp to win FA Cup fina...             155   \n",
       "3        0  U dun say so early hor... U c already then say...              49   \n",
       "4        0  Nah I don't think he goes to usf, he lives aro...              61   \n",
       "..     ...                                                ...             ...   \n",
       "95       1  Your free ringtone is waiting to be collected....             125   \n",
       "96       0                  Watching telugu movie..wat abt u?              33   \n",
       "97       0  i see. When we finish we have loads of loans t...              51   \n",
       "98       0  Hi. Wk been ok - on hols now! Yes on for a bit...             184   \n",
       "99       0  Please don't text me anymore. I have nothing e...              57   \n",
       "\n",
       "    num_words  num_sentences  \\\n",
       "0          24              2   \n",
       "1           8              2   \n",
       "2          37              2   \n",
       "3          13              1   \n",
       "4          15              1   \n",
       "..        ...            ...   \n",
       "95         26              4   \n",
       "96          8              1   \n",
       "97         13              2   \n",
       "98         47              5   \n",
       "99         14              2   \n",
       "\n",
       "                                     transformed_text  \n",
       "0   go jurong point crazi avail bugi n great world...  \n",
       "1                               ok lar joke wif u oni  \n",
       "2   free entri 2 wkli comp win fa cup final tkt 21...  \n",
       "3                 u dun say earli hor u c alreadi say  \n",
       "4                nah think goe usf live around though  \n",
       "..                                                ...  \n",
       "95  free rington wait collect simpli text password...  \n",
       "96                        watch telugu movi wat abt u  \n",
       "97                           see finish load loan pay  \n",
       "98  hi wk ok hol ye bit run forgot hairdress appoi...  \n",
       "99                     pleas text anymor noth els say  \n",
       "\n",
       "[100 rows x 6 columns]"
      ]
     },
     "execution_count": 68,
     "metadata": {},
     "output_type": "execute_result"
    }
   ],
   "source": [
    "df.head(100)"
   ]
  },
  {
   "cell_type": "code",
   "execution_count": 69,
   "id": "17747b50",
   "metadata": {},
   "outputs": [
    {
     "data": {
      "text/plain": [
       "Target\n",
       "0    4516\n",
       "1     653\n",
       "Name: count, dtype: int64"
      ]
     },
     "execution_count": 69,
     "metadata": {},
     "output_type": "execute_result"
    }
   ],
   "source": [
    "df[\"Target\"].value_counts()"
   ]
  },
  {
   "cell_type": "code",
   "execution_count": 70,
   "id": "24e5bede",
   "metadata": {},
   "outputs": [
    {
     "data": {
      "text/plain": [
       "array([0, 0, 1, ..., 0, 0, 0])"
      ]
     },
     "execution_count": 70,
     "metadata": {},
     "output_type": "execute_result"
    }
   ],
   "source": [
    "# extract 'Y'\n",
    "y = df['Target'].values\n",
    "\n",
    "# print it.\n",
    "y"
   ]
  },
  {
   "cell_type": "code",
   "execution_count": 71,
   "id": "c724ab23",
   "metadata": {},
   "outputs": [],
   "source": [
    "# train test apply\n",
    "\n",
    "# very amazing lib & train test split -> youtube..\n",
    "from sklearn.model_selection import train_test_split"
   ]
  },
  {
   "cell_type": "code",
   "execution_count": 72,
   "id": "ada7078e",
   "metadata": {},
   "outputs": [],
   "source": [
    "# different different model, sci-py libarary\n",
    "X_train, X_test, y_train, y_test = train_test_split(X, y, test_size= 0.2, random_state= 2)"
   ]
  },
  {
   "cell_type": "code",
   "execution_count": 73,
   "id": "0dae5483",
   "metadata": {},
   "outputs": [],
   "source": [
    "# calling algorithems\n",
    "\n",
    "from sklearn.naive_bayes import GaussianNB, MultinomialNB, BernoulliNB\n",
    "\n",
    "# note:\n",
    "# In the context of machine learning algorithms, \"metrics\" typically refer to evaluation measures used to assess\n",
    "# the performance of a model. These metrics help to quantify how well a model is performing in terms of various\n",
    "# aspects such as accuracy, precision, recall, F1-score, etc. Here are some common metrics used in machine learning:\n",
    "\n",
    "# imported it\n",
    "from sklearn.metrics import accuracy_score, confusion_matrix, precision_score"
   ]
  },
  {
   "cell_type": "markdown",
   "id": "9e47a739",
   "metadata": {},
   "source": [
    "shortkey- Esc + 1,2 3\n",
    "# Vital Interview questions -> differenciates"
   ]
  },
  {
   "cell_type": "code",
   "execution_count": 74,
   "id": "8e29a365",
   "metadata": {},
   "outputs": [],
   "source": [
    "# passing these algo -> into a variable\n",
    "\n",
    "gnb= GaussianNB()\n",
    "mnb= MultinomialNB()\n",
    "bnb= BernoulliNB()"
   ]
  },
  {
   "cell_type": "markdown",
   "id": "cc326bb8",
   "metadata": {},
   "source": [
    "#   # we're going to train this model (Interview purpose very important)\n",
    "\n",
    "<!--it is fine to code but above the part very important  -->"
   ]
  },
  {
   "cell_type": "markdown",
   "id": "da075d18",
   "metadata": {},
   "source": [
    "# to understand overall comparing differents part "
   ]
  },
  {
   "cell_type": "code",
   "execution_count": 75,
   "id": "f188964b",
   "metadata": {
    "scrolled": true
   },
   "outputs": [
    {
     "name": "stdout",
     "output_type": "stream",
     "text": [
      "Accuracy_Score:  0.8694390715667312\n",
      "Confusion_Matrix:  [[788 108]\n",
      " [ 27 111]]\n",
      "Precision_Score:  0.5068493150684932\n"
     ]
    }
   ],
   "source": [
    "# 1. Gaussian naive bayes -> model\n",
    "\n",
    "# accuracy\n",
    "gnb.fit(X_train, y_train)\n",
    "\n",
    "# prediction score\n",
    "y_predict1= gnb.predict(X_test)\n",
    "\n",
    "#score printing\n",
    "# first: accuracy_score\n",
    "\n",
    "print(\"Accuracy_Score: \",accuracy_score(y_test, y_predict1))\n",
    "\n",
    "# second: confusion_matrix\n",
    "print(\"Confusion_Matrix: \", confusion_matrix(y_test, y_predict1))\n",
    "\n",
    "# third: precision_score\n",
    "print(\"Precision_Score: \",precision_score(y_test, y_predict1))\n",
    "\n",
    "# note: very bad performation."
   ]
  },
  {
   "cell_type": "code",
   "execution_count": 76,
   "id": "7e7adcfb",
   "metadata": {},
   "outputs": [
    {
     "name": "stdout",
     "output_type": "stream",
     "text": [
      "Accuracy_score: 0.9709864603481625\n",
      "confusion_matrix: [[896   0]\n",
      " [ 30 108]]\n",
      "precision_score: 1.0\n"
     ]
    }
   ],
   "source": [
    "# let's second -> Maltinomial_NB\n",
    "\n",
    "# performing accuracy\n",
    "mnb.fit(X_train, y_train)\n",
    "\n",
    "# precision \n",
    "y_predict2= mnb.predict(X_test)\n",
    "\n",
    "# printing again \n",
    "print(\"Accuracy_score:\", accuracy_score(y_test, y_predict2))\n",
    "print(\"confusion_matrix:\", confusion_matrix(y_test, y_predict2))\n",
    "print(\"precision_score:\", precision_score(y_test, y_predict2))"
   ]
  },
  {
   "cell_type": "code",
   "execution_count": 77,
   "id": "2d00d686",
   "metadata": {},
   "outputs": [
    {
     "name": "stdout",
     "output_type": "stream",
     "text": [
      "Accuracy:  0.9835589941972921\n",
      "Confusion_matrix: [[895   1]\n",
      " [ 16 122]]\n",
      "Precision_score: 0.991869918699187\n"
     ]
    }
   ],
   "source": [
    "# let's check last one is bernoulli nb\n",
    "\n",
    "# accuracy\n",
    "bnb.fit(X_train, y_train)\n",
    "\n",
    "# precision\n",
    "y_predict3 = bnb.predict(X_test)\n",
    "\n",
    "# printing the one\n",
    "print(\"Accuracy: \", accuracy_score(y_test, y_predict3))\n",
    "print(\"Confusion_matrix:\", confusion_matrix(y_test, y_predict3))\n",
    "print(\"Precision_score:\", precision_score(y_test, y_predict3))"
   ]
  },
  {
   "cell_type": "code",
   "execution_count": 78,
   "id": "491d5efd",
   "metadata": {},
   "outputs": [],
   "source": [
    "# 1 decided -> based on the performation\n",
    "# bernoulliNB, MultinomialNB-> best\n",
    "# precision_best -> multinomialNB (tidf-> choised)"
   ]
  },
  {
   "cell_type": "code",
   "execution_count": 79,
   "id": "21bdab44",
   "metadata": {},
   "outputs": [],
   "source": [
    "# let's take sklearn all algorithems\n",
    "\n",
    "# pending to performs certains algorithems"
   ]
  },
  {
   "cell_type": "code",
   "execution_count": 80,
   "id": "ab254b6a",
   "metadata": {},
   "outputs": [],
   "source": [
    "# based on the accuracy try to imrove it on our model."
   ]
  },
  {
   "cell_type": "markdown",
   "id": "2cb2646a",
   "metadata": {},
   "source": [
    "#                                Model improvement\n",
    "\n",
    "<!--\n",
    "  What i faced during improvement the model.-->"
   ]
  },
  {
   "cell_type": "code",
   "execution_count": 81,
   "id": "fec564f9",
   "metadata": {},
   "outputs": [],
   "source": [
    "# 1. change max_feature parameter of tidf"
   ]
  },
  {
   "cell_type": "code",
   "execution_count": 82,
   "id": "eb4e7a10",
   "metadata": {},
   "outputs": [],
   "source": [
    "#                 \"Congrats!\"\",         that we have learned our first project of based on machine learning(DS)\""
   ]
  },
  {
   "cell_type": "code",
   "execution_count": 83,
   "id": "26776ce5",
   "metadata": {},
   "outputs": [],
   "source": [
    "# 1"
   ]
  },
  {
   "cell_type": "code",
   "execution_count": 84,
   "id": "045852d2",
   "metadata": {},
   "outputs": [],
   "source": [
    "# we're going to create a pipeline"
   ]
  },
  {
   "cell_type": "code",
   "execution_count": 85,
   "id": "2eb732ae",
   "metadata": {},
   "outputs": [],
   "source": [
    "# summary:\n",
    "    \n",
    "# # 1.preprocessing(text transformation)\n",
    "\n",
    "# 2. vectorization\n",
    "\n",
    "# 3. algorithem apply"
   ]
  },
  {
   "cell_type": "code",
   "execution_count": 86,
   "id": "da454ef3",
   "metadata": {},
   "outputs": [],
   "source": [
    "# 2 file pickle"
   ]
  },
  {
   "cell_type": "code",
   "execution_count": 88,
   "id": "5295119b",
   "metadata": {},
   "outputs": [],
   "source": [
    "import pickle\n",
    "\n",
    "# first: tidf -> vectorizer\n",
    "pickle.dump(tidf, open('vectorizer2.pkl', 'wb'))\n",
    "\n",
    "# second: \n",
    "pickle.dump(bnb, open('modelimprovement2.pkl', 'wb'))\n",
    "\n",
    "# once to move ahead, checking first everthing is working fine or not?"
   ]
  },
  {
   "cell_type": "markdown",
   "id": "01265bc6",
   "metadata": {},
   "source": [
    "<h1> Final step of it</h1> Hurry!"
   ]
  },
  {
   "cell_type": "markdown",
   "id": "e0110581",
   "metadata": {},
   "source": [
    "Based on machine learning model -> i performed different different hit and trial method for the precision score and accuracy,\n",
    "where i choiced before the priority presion more than accuracy ?\n",
    "\n",
    "but i faced building and best fitting of machine model algo based on precision\n",
    "\n",
    "<h4>run 3 most resulted machine algorithm then after performed and corrected based on accuracy</h4>\n",
    "\n",
    "1.gnb= GaussianNB()-> perfomed very less\n",
    "\n",
    "2.mnb= MultinomialNB() -> performed best fit but lack in accuracy after hint and trial method so that finally i choiced\n",
    "\n",
    "after different different hint and trial method of machine learning -> before -> after\n",
    "\n",
    "<h2>-> before                                                after finally improved the model</h2>\n",
    "\n",
    "Accuracy_score: 0.9709864603481625 ----------------->    Accuracy_score:  0.9835589941972921                                                   \n",
    "precision_score: 1.0               ----------------->    Precision_score: 0.991869918699187\n",
    "        \n",
    "        \n",
    "        that is working good than previous(multinomial algorithem)\n",
    "\n",
    "\n",
    "\n",
    "\n",
    "\n",
    "bnb= BernoulliNB()\n"
   ]
  },
  {
   "cell_type": "code",
   "execution_count": null,
   "id": "b9e37b79",
   "metadata": {},
   "outputs": [],
   "source": []
  },
  {
   "cell_type": "markdown",
   "id": "fc3e809e",
   "metadata": {},
   "source": [
    "#          Finally - Pipeline it, into Stremlit (API)"
   ]
  },
  {
   "cell_type": "markdown",
   "id": "c66c1fb7",
   "metadata": {},
   "source": [
    "Carefully!\n",
    "Date: 28/02/2024\n",
    "\n",
    "1. Using Streamlit (API)\n",
    "\n",
    "2. Pipe within it.\n",
    "\n",
    "3. Run Pycharm IDE.\n",
    "\n",
    "HINT- Campusx (If you faced any problem related to it.)\n",
    "link YouTube - https://youtu.be/YncZ0WwxyzU?si=fZA44M_L_uGlRNPK"
   ]
  },
  {
   "cell_type": "code",
   "execution_count": null,
   "id": "531ce9fa",
   "metadata": {},
   "outputs": [],
   "source": [
    "# # importing streamlit\n",
    "# import streamlit as st\n",
    "# import pickle\n",
    "\n",
    "# #importing nltk (word_tokenization)\n",
    "# from nltk.corpus import stopwords\n",
    "# import nltk\n",
    "# # nltk.download('stopwords') // optional\n",
    "\n",
    "# from nltk.stem.porter import PorterStemmer\n",
    "# ps = PorterStemmer()\n",
    "\n",
    "# # stopwords.words(\"english\")\n",
    "\n",
    "# # importing string\n",
    "# import string\n",
    "# # string.punctuation\n",
    "\n",
    "\n",
    "# # pickle\n",
    "# import pickle\n",
    "# # last one -> ps package installed\n",
    "# # 1 lower case\n",
    "# # Tokenization\n",
    "# # Removing special characters\n",
    "# # Removing stop words and punctuation\n",
    "# # stemming.\n",
    "\n",
    "# # we're taking 1 functin to convert it into lower case\n",
    "\n",
    "# # 2 Tokenization\n",
    "\n",
    "# # we're going 1 function to convert it into words_tokenization\n",
    "\n",
    "# # 1 -> for the lowe case\n",
    "# def Tran_Lw(text):\n",
    "#     text = text.lower()\n",
    "\n",
    "#     # 2 -> for the word tokenization\n",
    "#     text = nltk.word_tokenize(text)  # break_down the words from the sentences in list.\n",
    "\n",
    "#     #    take an empty list.\n",
    "\n",
    "#     # 3 -> for the special characters and punctuation stuffs.\n",
    "#     y = []\n",
    "\n",
    "#     for i in text:\n",
    "#         if i.isalnum():  # isalnum -> including lower words and numerical except special characters.\n",
    "#             y.append(i)\n",
    "\n",
    "#     #   just copy once remove it.\n",
    "#     text = y[:]\n",
    "\n",
    "#     #   y is empty now.\n",
    "#     y.clear()\n",
    "\n",
    "#     # 4 -> for the stop words\n",
    "#     for i in text:\n",
    "#         if i not in stopwords.words(\"english\") and i not in string.punctuation:\n",
    "#             y.append(i)\n",
    "\n",
    "#     # again as same for stemming\n",
    "#     text = y[:]\n",
    "#     y.clear()\n",
    "\n",
    "#     # 5 -> for the stemming\n",
    "#     for i in text:\n",
    "#         y.append(ps.stem(i))\n",
    "\n",
    "#     return \" \".join(y)\n",
    "\n",
    "# # sample_exe:\n",
    "# # Tran_Lw(\"Okay name ur price as long as its legal! Wen can I pick them up? Y u ave x ams xx\")\n",
    "\n",
    "\n",
    "# # loaded tidf\n",
    "\n",
    "# tidf= pickle.load(open('vectorizer.pkl', 'rb')) #read binay mode\n",
    "\n",
    "# # loaded mode\n",
    "# model = pickle.load(open('model.pkl', 'rb'))\n",
    "\n",
    "# # title\n",
    "# st.title(\"SMS Spam Identifier\")\n",
    "\n",
    "# # input\n",
    "# input_sms= st.text_area(\"Enter the message\")\n",
    "# # added button\n",
    "# if st.button(\"Predict\"):\n",
    "\n",
    "#     # Now, there are 4 steps processes\n",
    "#     # 1. preprocessing\n",
    "#     transformed_sms = Tran_Lw(input_sms)\n",
    "\n",
    "#     # 2. vectorizer\n",
    "#     vector_input = tidf.transform([transformed_sms]) #passing in a list.\n",
    "\n",
    "#     # 3. predict\n",
    "#     result = model.predict(vector_input)[0]\n",
    "\n",
    "#     # 4. display\n",
    "#     if result == 1:\n",
    "#         st.header(\"Spam\")\n",
    "#     else:\n",
    "#         st.header(\"Not Spam\")"
   ]
  },
  {
   "cell_type": "markdown",
   "id": "1191720a",
   "metadata": {},
   "source": [
    " # Others-> during what i faced to pipeline it, it's optional part at the end."
   ]
  },
  {
   "cell_type": "code",
   "execution_count": null,
   "id": "46d6ec67",
   "metadata": {},
   "outputs": [],
   "source": [
    "# documentati0n\n",
    "\n",
    "# -> streamlit app"
   ]
  },
  {
   "cell_type": "markdown",
   "id": "3ebc7bf5",
   "metadata": {},
   "source": [
    "i faced issue regarding how to approach .pkl file and pipe line it to streamlit dashboard (frame-work)"
   ]
  },
  {
   "cell_type": "markdown",
   "id": "76aed1e9",
   "metadata": {},
   "source": [
    "<h1> Exact code of Pycharm -> due to not running because of i couldn't pipe line it proper.</h1>"
   ]
  },
  {
   "cell_type": "code",
   "execution_count": null,
   "id": "924193c4",
   "metadata": {},
   "outputs": [],
   "source": [
    "# !pip install streamlit"
   ]
  },
  {
   "cell_type": "code",
   "execution_count": null,
   "id": "c3ef5bcc",
   "metadata": {},
   "outputs": [],
   "source": [
    "# # importing streamlit\n",
    "# import streamlit as st\n",
    "# import pickle\n",
    "\n",
    "# #importing nltk (word_tokenization)\n",
    "# from nltk.corpus import stopwords\n",
    "# import nltk\n",
    "# # nltk.download('stopwords');// optional\n",
    "\n",
    "# from nltk.stem.porter import PorterStemmer\n",
    "# ps = PorterStemmer()\n",
    "\n",
    "# # stopwords.words(\"english\")\n",
    "\n",
    "# # importing string\n",
    "# import string\n",
    "# # string.punctuation\n",
    "\n",
    "\n",
    "# # pickle\n",
    "# import pickle\n",
    "\n",
    "# last one -> ps package installed\n",
    "# 1 lower case\n",
    "# Tokenization\n",
    "# Removing special characters\n",
    "# Removing stop words and punctuation\n",
    "# stemming.\n",
    "\n",
    "# we're taking 1 functin to convert it into lower case\n",
    "\n",
    "# 2 Tokenization\n",
    "\n",
    "# we're going 1 function to convert it into words_tokenization\n",
    "\n",
    "# 1 -> for the lowe case\n"
   ]
  },
  {
   "cell_type": "code",
   "execution_count": null,
   "id": "2794c96f",
   "metadata": {},
   "outputs": [],
   "source": [
    "# def Tran_Lw(text):\n",
    "#     text = text.lower()\n",
    "\n",
    "#     # 2 -> for the word tokenization\n",
    "#     text = nltk.word_tokenize(text)  # break_down the words from the sentences in list.\n",
    "\n",
    "#     #    take an empty list.\n",
    "\n",
    "#     # 3 -> for the special characters and punctuation stuffs.\n",
    "#     y = []\n",
    "\n",
    "#     for i in text:\n",
    "#         if i.isalnum():  # isalnum -> including lower words and numerical except special characters.\n",
    "#             y.append(i)\n",
    "\n",
    "#     #   just copy once remove it.\n",
    "#     text = y[:]\n",
    "\n",
    "#     #   y is empty now.\n",
    "#     y.clear()\n",
    "\n",
    "#     # 4 -> for the stop words\n",
    "#     for i in text:\n",
    "#         if i not in stopwords.words(\"english\") and i not in string.punctuation:\n",
    "#             y.append(i)\n",
    "\n",
    "#     # again as same for stemming\n",
    "#     text = y[:]\n",
    "#     y.clear()\n",
    "\n",
    "#     # 5 -> for the stemming\n",
    "#     for i in text:\n",
    "#         y.append(ps.stem(i))\n",
    "\n",
    "#     return \" \".join(y)\n",
    "\n",
    "# sample_exe:\n",
    "# Tran_Lw(\"Okay name ur price as long as its legal! Wen can I pick them up? Y u ave x ams xx\")"
   ]
  },
  {
   "cell_type": "code",
   "execution_count": null,
   "id": "81a05424",
   "metadata": {},
   "outputs": [],
   "source": [
    "# # loaded tidf\n",
    "\n",
    "# tidf= pickle.load(open('vectorizer.pkl', 'rb')) #read binay mode\n",
    "\n",
    "# # loaded mode\n",
    "# model = pickle.load(open('model.pkl', 'rb'))\n",
    "\n",
    "# # title\n",
    "# st.title(\"E-mail/SMS Spam Classifier\")\n",
    "\n",
    "# # input\n",
    "# input_sms= st.text_input(\"Enter the message\")"
   ]
  },
  {
   "cell_type": "code",
   "execution_count": null,
   "id": "0880f8bb",
   "metadata": {},
   "outputs": [],
   "source": [
    "# # Now, there are 4 steps processes\n",
    "# # 1. preprocessing\n",
    "# transformed_sms = Tran_Lw(input_sms)\n",
    "\n",
    "# # 2. vectorizer\n",
    "# vector_input = tidf.transform([transformed_sms]) #passing in a list.\n",
    "\n",
    "# # 3. predict\n",
    "# result = model.predict(vector_input)[0]\n",
    "\n",
    "# # 4. display\n",
    "# if result == 1:\n",
    "#     st.header(\"Spam\")\n",
    "# else:\n",
    "#     st.header(\"Not Spam\")"
   ]
  },
  {
   "cell_type": "code",
   "execution_count": null,
   "id": "6aed9d12",
   "metadata": {},
   "outputs": [],
   "source": [
    "# import pickle"
   ]
  },
  {
   "cell_type": "code",
   "execution_count": null,
   "id": "864deb67",
   "metadata": {},
   "outputs": [],
   "source": [
    "# to check jupyter notebook version\n",
    "\n",
    "# import notebook\n",
    "# notebook.__version__"
   ]
  },
  {
   "cell_type": "code",
   "execution_count": null,
   "id": "67967c46",
   "metadata": {},
   "outputs": [],
   "source": []
  },
  {
   "cell_type": "code",
   "execution_count": null,
   "id": "22ccafcf",
   "metadata": {},
   "outputs": [],
   "source": []
  },
  {
   "cell_type": "code",
   "execution_count": null,
   "id": "139975f2",
   "metadata": {},
   "outputs": [],
   "source": []
  },
  {
   "cell_type": "code",
   "execution_count": null,
   "id": "3e484fdc",
   "metadata": {},
   "outputs": [],
   "source": []
  }
 ],
 "metadata": {
  "kernelspec": {
   "display_name": "Python 3 (ipykernel)",
   "language": "python",
   "name": "python3"
  },
  "language_info": {
   "codemirror_mode": {
    "name": "ipython",
    "version": 3
   },
   "file_extension": ".py",
   "mimetype": "text/x-python",
   "name": "python",
   "nbconvert_exporter": "python",
   "pygments_lexer": "ipython3",
   "version": "3.11.7"
  }
 },
 "nbformat": 4,
 "nbformat_minor": 5
}
